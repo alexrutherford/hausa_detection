{
 "metadata": {
  "name": "",
  "signature": "sha256:e1517c62ec3b42408defb9a10a91d58cb3f8d2375273e72afdc275f02a5fbd84"
 },
 "nbformat": 3,
 "nbformat_minor": 0,
 "worksheets": [
  {
   "cells": [
    {
     "cell_type": "heading",
     "level": 2,
     "metadata": {},
     "source": [
      "Constructing a Hausa Corpus From BBC News Articles"
     ]
    },
    {
     "cell_type": "markdown",
     "metadata": {},
     "source": [
      "*TLDR*; doing NLP with non-mainstream languages is hard because libraries, corpora and taxonomies, created by people speaking a small subset of global languages, don't generally include these languages. Often the first step in NLP is actually recognising the language being spoken. This notebook steps through how I derived a corpus of Hausa language to train a language classification algorithm."
     ]
    },
    {
     "cell_type": "markdown",
     "metadata": {},
     "source": [
      "This is a great time to be doing Natural Language Processing (NLP). Anyone can now access previously unthinkable quantities of text data to efficiently mine and train algorithms on, not only social media such as Twitter but also news, Wikipedia and others. Spare a thought for the students of [Zipf](), pioneer of statistical language analysis, who were used as 'human machines' to manually count the frequency of occurence of each letter in large corpora (see this great historical [overview](http://bds.sagepub.com/content/1/1/2053951714535365.full)). \n",
      "\n",
      "However, this invariably introduces a strong bias towards a certain set of languages spoken in rich countries (see [this great blog post](http://idibon.com/marketing-budgets-and-language-diversity/) from the global language technology firm [Idibon](http://idibon.com)). This is problematic when this kind of analysis is used to draw very broad sociological conclusions (see these great analyses of the potential fallacies of this [Big Questions for Social Media Big Data](http://www.aaai.org/ocs/index.php/ICWSM/ICWSM14/paper/download/8062/8151) and [Big Data, Machine Learning and the Social Sciences](https://medium.com/@hannawallach/big-data-machine-learning-and-the-social-sciences-927a8e20460d)). However, when conducting analysis of social media content for development work, these kind of shortcomings become more than an unfortunate bias and actually stop you doing your work."
     ]
    },
    {
     "cell_type": "markdown",
     "metadata": {},
     "source": [
      "As a small step to begin to correct this problem this notebook steps through how one might construct a corpus in a non-mainstream language (specifically [Hausa](http://en.wikipedia.org/wiki/Hausa_language), a language of West Africa). The raw content is derived from the ever invaluable multi-lingual content provided by the [BBC](http://www.bbc.co.uk/hausa). The URLs of a number of news stories are taken from the [BBC Hausa Twitter timeline](https://twitter.com/bbchausa) using the Twitter API. The raw content of the pages are scraped using Python's [Beautiful Soup](https://pypi.python.org/pypi/BeautifulSoup). A follow up notebook will cover how to train the excellent open source language detection module [langid](https://github.com/saffsd/langid.py) on this corpus so that new Hausa text can be automatically detected.\n",
      "\n",
      "*A Final Word*: Scrape responsibly! While the BBC has a good infrastructure that can withstand a lot of requests, not all sites can. So think before you set off a large scraping script, and at least throttle your requests by sleeping inbetween hits. Not only is this good karma, you are less likely to have your IP blacklisted by a sys admin somewhere."
     ]
    },
    {
     "cell_type": "heading",
     "level": 5,
     "metadata": {},
     "source": [
      "Dependencies"
     ]
    },
    {
     "cell_type": "markdown",
     "metadata": {},
     "source": [
      "The only non-core Python module used here is [Beautiful Soup](https://pypi.python.org/pypi/BeautifulSoup). The great notebooks that accompany [Mining the Social Web](https://github.com/ptwobrussell/Mining-the-Social-Web-2nd-Edition) were also invaluable and I used a library of helper functions ```hit_tw_api_harvest.py``` based on these. This requires a Twitter API key (a primer on OAuth and Twitter API access is found [here](https://rawgit.com/ptwobrussell/Mining-the-Social-Web-2nd-Edition/master/ipynb/html/_Appendix%20B%20-%20OAuth%20Primer.html))"
     ]
    },
    {
     "cell_type": "code",
     "collapsed": false,
     "input": [
      "import re,sys,os,re,csv,time\n",
      "import urlparse\n",
      "from bs4 import BeautifulSoup\n",
      "import urllib,urllib2\n",
      "import hit_tw_api_harvest"
     ],
     "language": "python",
     "metadata": {},
     "outputs": [],
     "prompt_number": 2
    },
    {
     "cell_type": "heading",
     "level": 5,
     "metadata": {},
     "source": [
      "Load up the Twitter API and grab tweets by BBC Hausa account"
     ]
    },
    {
     "cell_type": "code",
     "collapsed": false,
     "input": [
      "tw=hit_tw_api_harvest.oauth_login()\n",
      "res=hit_tw_api_harvest.harvest_user_timeline(tw,screen_name='bbchausa',max_results=999999999)"
     ],
     "language": "python",
     "metadata": {},
     "outputs": [
      {
       "output_type": "stream",
       "stream": "stderr",
       "text": [
        "Fetched 200 tweets\n",
        "Fetched 200 tweets"
       ]
      },
      {
       "output_type": "stream",
       "stream": "stderr",
       "text": [
        "\n",
        "Fetched 200 tweets"
       ]
      },
      {
       "output_type": "stream",
       "stream": "stderr",
       "text": [
        "\n",
        "Fetched 200 tweets"
       ]
      },
      {
       "output_type": "stream",
       "stream": "stderr",
       "text": [
        "\n",
        "Fetched 200 tweets"
       ]
      },
      {
       "output_type": "stream",
       "stream": "stderr",
       "text": [
        "\n",
        "Fetched 200 tweets"
       ]
      },
      {
       "output_type": "stream",
       "stream": "stderr",
       "text": [
        "\n",
        "Fetched 200 tweets"
       ]
      },
      {
       "output_type": "stream",
       "stream": "stderr",
       "text": [
        "\n",
        "Fetched 200 tweets"
       ]
      },
      {
       "output_type": "stream",
       "stream": "stderr",
       "text": [
        "\n",
        "Fetched 200 tweets"
       ]
      },
      {
       "output_type": "stream",
       "stream": "stderr",
       "text": [
        "\n",
        "Fetched 200 tweets"
       ]
      },
      {
       "output_type": "stream",
       "stream": "stderr",
       "text": [
        "\n",
        "Fetched 200 tweets"
       ]
      },
      {
       "output_type": "stream",
       "stream": "stderr",
       "text": [
        "\n",
        "Fetched 200 tweets"
       ]
      },
      {
       "output_type": "stream",
       "stream": "stderr",
       "text": [
        "\n",
        "Fetched 200 tweets"
       ]
      },
      {
       "output_type": "stream",
       "stream": "stderr",
       "text": [
        "\n",
        "Fetched 200 tweets"
       ]
      },
      {
       "output_type": "stream",
       "stream": "stderr",
       "text": [
        "\n",
        "Fetched 200 tweets"
       ]
      },
      {
       "output_type": "stream",
       "stream": "stderr",
       "text": [
        "\n",
        "Fetched 200 tweets"
       ]
      },
      {
       "output_type": "stream",
       "stream": "stderr",
       "text": [
        "\n",
        "Done fetching tweets\n"
       ]
      }
     ],
     "prompt_number": 3
    },
    {
     "cell_type": "heading",
     "level": 5,
     "metadata": {},
     "source": [
      "Grab the URLs from each tweet (if they are there)"
     ]
    },
    {
     "cell_type": "code",
     "collapsed": false,
     "input": [
      "rootUrls=[]\n",
      "for r in res:\n",
      "    for l in r['entities']['urls']:\n",
      "#        print l['url']\n",
      "        rootUrls.append(l['url'])"
     ],
     "language": "python",
     "metadata": {},
     "outputs": [],
     "prompt_number": 4
    },
    {
     "cell_type": "markdown",
     "metadata": {},
     "source": [
      "Define a function that does basic cleaning; removes punctuation and makes lower case. This leaves raw content ready to be parsed for 3 character sequences."
     ]
    },
    {
     "cell_type": "code",
     "collapsed": false,
     "input": [
      "def clean(t):\n",
      "    t=t.lower()\n",
      "    t=re.sub(';|:|\\.|\\\"|\\?|\\(|\\)|\\,',' ',t,re.U)\n",
      "    return t"
     ],
     "language": "python",
     "metadata": {},
     "outputs": [],
     "prompt_number": 38
    },
    {
     "cell_type": "code",
     "collapsed": false,
     "input": [
      "assert clean(\"?Test.\")==u' test '"
     ],
     "language": "python",
     "metadata": {},
     "outputs": [],
     "prompt_number": 39
    },
    {
     "cell_type": "markdown",
     "metadata": {},
     "source": [
      "**Grab the text from the p elements of the story body**"
     ]
    },
    {
     "cell_type": "markdown",
     "metadata": {},
     "source": [
      "As a quick and dirty strategy, we look for the body of the story in the standard article template. If it isn't there then we simply ignore the article"
     ]
    },
    {
     "cell_type": "code",
     "collapsed": false,
     "input": [
      "def getText(t,outFile,sleep=True,verbose=False):\n",
      "    '''Pass in raw text and file to write to\n",
      "    Optional Boolean flags for sleeping between hits \n",
      "    and verbose logging\n",
      "    '''\n",
      "    tt=BeautifulSoup(t.read())\n",
      "    \n",
      "    element=tt.find(class_='story-body__inner')\n",
      "    \n",
      "    if verbose:print 'GETTING',t.url\n",
      "    if sleep:time.sleep(1)\n",
      "    \n",
      "    if element:\n",
      "        for p,pp in enumerate([d for d in element.find_all('p') if d]):\n",
      "            outFile.write(clean(pp.get_text()).encode('utf-8')+' ')\n",
      "#            print pp\n",
      "        outFile.write('\\n') # One line per story\n",
      "    else:\n",
      "        print '\\tNO DOCUMENT BODY',t.url"
     ],
     "language": "python",
     "metadata": {},
     "outputs": [],
     "prompt_number": 40
    },
    {
     "cell_type": "code",
     "collapsed": false,
     "input": [
      "with open('out_bbc_hausa.txt','w') as outFile:\n",
      "\n",
      "    for n,url in enumerate(rootUrls):\n",
      "        if n%25==0:print n,url\n",
      "        t=urllib2.urlopen(url)\n",
      "        getText(t,outFile)"
     ],
     "language": "python",
     "metadata": {},
     "outputs": [
      {
       "output_type": "stream",
       "stream": "stdout",
       "text": [
        "0 http://t.co/f9SxxAR2uP\n",
        "\tNO DOCUMENT BODY"
       ]
      },
      {
       "output_type": "stream",
       "stream": "stdout",
       "text": [
        " http://www.independent.co.uk/sport/football/premier-league/manchester-united-defender-luke-shaw-renting-385m-home-from-cristiano-ronaldo-9946953.html\n",
        "25"
       ]
      },
      {
       "output_type": "stream",
       "stream": "stdout",
       "text": [
        " http://t.co/Ks3GH3aLWC\n",
        "\tNO DOCUMENT BODY"
       ]
      },
      {
       "output_type": "stream",
       "stream": "stdout",
       "text": [
        " http://www.bbc.co.uk/hausa/multimedia/2014/12/141225_denmark_internet_health?ocid=socialflow_twitter\n",
        "50 http://t.co/3MIHNOUxYj\n",
        "\tNO DOCUMENT BODY"
       ]
      },
      {
       "output_type": "stream",
       "stream": "stdout",
       "text": [
        " http://www.bbc.co.uk/hausa/multimedia/2014/12/141225_tsunami_ten_years?ocid=socialflow_twitter\n",
        "\tNO DOCUMENT BODY"
       ]
      },
      {
       "output_type": "stream",
       "stream": "stdout",
       "text": [
        " http://www.bbc.co.uk/hausa/multimedia/2014/12/141225_jordan_pilot_is?ocid=socialflow_twitter\n",
        "\tNO DOCUMENT BODY"
       ]
      },
      {
       "output_type": "stream",
       "stream": "stdout",
       "text": [
        " http://www.bbc.co.uk/hausa/multimedia/2014/12/141224_botswana_tourism?ocid=socialflow_twitter\n",
        "\tNO DOCUMENT BODY"
       ]
      },
      {
       "output_type": "stream",
       "stream": "stdout",
       "text": [
        " http://www.bbc.co.uk/hausa/multimedia/2014/12/141224_bauchi_market_attack?ocid=socialflow_twitter\n",
        "75 http://t.co/FRVXIcSK6O\n",
        "\tNO DOCUMENT BODY"
       ]
      },
      {
       "output_type": "stream",
       "stream": "stdout",
       "text": [
        " http://www.bbc.co.uk/hausa/multimedia/2014/09/000000_ondemandbulletin\n",
        "\tNO DOCUMENT BODY"
       ]
      },
      {
       "output_type": "stream",
       "stream": "stdout",
       "text": [
        " http://www.bbc.co.uk/hausa/multimedia/2014/12/141223_bbcafrica_quiz_video?ocid=socialflow_twitter\n",
        "\tNO DOCUMENT BODY"
       ]
      },
      {
       "output_type": "stream",
       "stream": "stdout",
       "text": [
        " http://www.bbc.co.uk/hausa/multimedia/2014/12/141223_india_arstist?ocid=socialflow_twitter\n",
        "100"
       ]
      },
      {
       "output_type": "stream",
       "stream": "stdout",
       "text": [
        " http://t.co/vs9gUJzK1m\n",
        "\tNO DOCUMENT BODY"
       ]
      },
      {
       "output_type": "stream",
       "stream": "stdout",
       "text": [
        " http://www.bbc.co.uk/hausa/multimedia/2014/12/141222_obesity_disease?ocid=socialflow_twitter\n",
        "\tNO DOCUMENT BODY"
       ]
      },
      {
       "output_type": "stream",
       "stream": "stdout",
       "text": [
        " http://www.bbc.co.uk/hausa/multimedia/2014/12/141222_bokoharam_idp_?ocid=socialflow_twitter\n",
        "125"
       ]
      },
      {
       "output_type": "stream",
       "stream": "stdout",
       "text": [
        " http://t.co/GMH8fSwnXO\n",
        "150"
       ]
      },
      {
       "output_type": "stream",
       "stream": "stdout",
       "text": [
        " http://t.co/2oCCmFMvE8\n",
        "\tNO DOCUMENT BODY"
       ]
      },
      {
       "output_type": "stream",
       "stream": "stdout",
       "text": [
        " http://www.bbc.co.uk/hausa/news/2014/12/141219_raayi-riga-budget?ocid=socialflow_twitter\n",
        "\tNO DOCUMENT BODY"
       ]
      },
      {
       "output_type": "stream",
       "stream": "stdout",
       "text": [
        " http://www.bbc.co.uk/hausa/multimedia/2014/12/141219_click191214?ocid=socialflow_twitter\n",
        "175"
       ]
      },
      {
       "output_type": "stream",
       "stream": "stdout",
       "text": [
        " http://t.co/rW10zKELph\n",
        "\tNO DOCUMENT BODY"
       ]
      },
      {
       "output_type": "stream",
       "stream": "stdout",
       "text": [
        " http://www.bbc.co.uk/hausa/multimedia/2014/12/141218_jakarta_motocycle?ocid=socialflow_twitter\n",
        "\tNO DOCUMENT BODY"
       ]
      },
      {
       "output_type": "stream",
       "stream": "stdout",
       "text": [
        " http://www.bbc.co.uk/hausa/multimedia/2014/12/141218_pakistan_attack_pashewar?ocid=socialflow_twitter\n",
        "\tNO DOCUMENT BODY"
       ]
      },
      {
       "output_type": "stream",
       "stream": "stdout",
       "text": [
        " http://www.bbc.co.uk/hausa/multimedia/2014/09/000000_ondemandbulletin\n",
        "\tNO DOCUMENT BODY"
       ]
      },
      {
       "output_type": "stream",
       "stream": "stdout",
       "text": [
        " https://twitter.com/BBC_HaveYourSay/timelines/544537298185232385\n",
        "\tNO DOCUMENT BODY"
       ]
      },
      {
       "output_type": "stream",
       "stream": "stdout",
       "text": [
        " http://www.bbc.co.uk/news/30213792\n",
        "200 http://t.co/AQXjdplmPd\n",
        "\tNO DOCUMENT BODY"
       ]
      },
      {
       "output_type": "stream",
       "stream": "stdout",
       "text": [
        " http://www.bbc.co.uk/hausa/multimedia/2014/12/141211_tanzania_albino?ocid=socialflow_twitter\n",
        "\tNO DOCUMENT BODY"
       ]
      },
      {
       "output_type": "stream",
       "stream": "stdout",
       "text": [
        " http://www.bbc.co.uk/hausa/multimedia/2014/12/141211_hongkong_slums?ocid=socialflow_twitter\n",
        "\tNO DOCUMENT BODY"
       ]
      },
      {
       "output_type": "stream",
       "stream": "stdout",
       "text": [
        " http://www.bbc.co.uk/hausa/multimedia/2014/12/141211_malala_nobel_award?ocid=socialflow_twitter\n",
        "225"
       ]
      },
      {
       "output_type": "stream",
       "stream": "stdout",
       "text": [
        " http://t.co/NTf6K0RuLJ\n",
        "\tNO DOCUMENT BODY"
       ]
      },
      {
       "output_type": "stream",
       "stream": "stdout",
       "text": [
        " http://www.bbc.co.uk/hausa/multimedia/2014/12/141215_raayi_taadanci?ocid=socialflow_twitter\n",
        "250"
       ]
      },
      {
       "output_type": "stream",
       "stream": "stdout",
       "text": [
        " http://t.co/nh5MsKVpw0\n",
        "275"
       ]
      },
      {
       "output_type": "stream",
       "stream": "stdout",
       "text": [
        " http://t.co/CBaNVjL2nq\n",
        "\tNO DOCUMENT BODY"
       ]
      },
      {
       "output_type": "stream",
       "stream": "stdout",
       "text": [
        " http://www.bbc.co.uk/hausa/multimedia/2014/09/000000_ondemandbulletin\n",
        "300"
       ]
      },
      {
       "output_type": "stream",
       "stream": "stdout",
       "text": [
        " http://t.co/Ki3bSCbPiQ\n",
        "325"
       ]
      },
      {
       "output_type": "stream",
       "stream": "stdout",
       "text": [
        " http://t.co/PpToxXi5ad\n",
        "\tNO DOCUMENT BODY"
       ]
      },
      {
       "output_type": "stream",
       "stream": "stdout",
       "text": [
        " http://www.bbc.co.uk/academy/hausa/article/art20141209141434867\n",
        "\tNO DOCUMENT BODY"
       ]
      },
      {
       "output_type": "stream",
       "stream": "stdout",
       "text": [
        " http://www.bbc.co.uk/hausa/multimedia/2014/12/141210_joburg_city?ocid=socialflow_twitter\n",
        "\tNO DOCUMENT BODY"
       ]
      },
      {
       "output_type": "stream",
       "stream": "stdout",
       "text": [
        " http://www.bbc.co.uk/hausa/multimedia/2014/12/141210_malaria_successes?ocid=socialflow_twitter\n",
        "350"
       ]
      },
      {
       "output_type": "stream",
       "stream": "stdout",
       "text": [
        " http://t.co/4VBFig6FFW\n",
        "\tNO DOCUMENT BODY"
       ]
      },
      {
       "output_type": "stream",
       "stream": "stdout",
       "text": [
        " http://www.bbc.co.uk/hausa/multimedia/2014/12/141209_bokoharam_cameroon?ocid=socialflow_twitter\n",
        "\tNO DOCUMENT BODY"
       ]
      },
      {
       "output_type": "stream",
       "stream": "stdout",
       "text": [
        " http://www.bbc.co.uk/hausa/multimedia/2014/09/000000_ondemandbulletin\n",
        "375"
       ]
      },
      {
       "output_type": "stream",
       "stream": "stdout",
       "text": [
        " http://t.co/rFSAHQea9n\n",
        "\tNO DOCUMENT BODY"
       ]
      },
      {
       "output_type": "stream",
       "stream": "stdout",
       "text": [
        " http://www.bbc.co.uk/hausa/multimedia/2014/12/141208_mubi_gallery_embed?ocid=socialflow_twitter\n",
        "\tNO DOCUMENT BODY"
       ]
      },
      {
       "output_type": "stream",
       "stream": "stdout",
       "text": [
        " http://www.bbc.co.uk/hausa/multimedia/2014/12/141208_mandela_one_year?ocid=socialflow_twitter\n",
        "\tNO DOCUMENT BODY"
       ]
      },
      {
       "output_type": "stream",
       "stream": "stdout",
       "text": [
        " http://www.bbc.co.uk/hausa/multimedia/2014/12/141208_brain_ball_head?ocid=socialflow_twitter\n",
        "400"
       ]
      },
      {
       "output_type": "stream",
       "stream": "stdout",
       "text": [
        " http://t.co/6hw7QEA4HO\n",
        "\tNO DOCUMENT BODY"
       ]
      },
      {
       "output_type": "stream",
       "stream": "stdout",
       "text": [
        " http://www.bbc.co.uk/hausa/news/2014/12/141205_raayi-riga-zaben-fidda-gwani?ocid=socialflow_twitter\n",
        "\tNO DOCUMENT BODY"
       ]
      },
      {
       "output_type": "stream",
       "stream": "stdout",
       "text": [
        " http://www.bbc.co.uk/hausa/multimedia/2014/12/141205_click051214?ocid=socialflow_twitter\n",
        "425 http://t.co/jG90KjGVqK\n",
        "\tNO DOCUMENT BODY"
       ]
      },
      {
       "output_type": "stream",
       "stream": "stdout",
       "text": [
        " http://www.bbc.co.uk/hausa/multimedia/2014/12/141205_libya_is_?ocid=socialflow_twitter\n",
        "\tNO DOCUMENT BODY"
       ]
      },
      {
       "output_type": "stream",
       "stream": "stdout",
       "text": [
        " http://www.bbc.co.uk/hausa/multimedia/2014/12/141205_battery_life_phone?ocid=socialflow_twitter\n",
        "\tNO DOCUMENT BODY"
       ]
      },
      {
       "output_type": "stream",
       "stream": "stdout",
       "text": [
        " http://www.bbc.co.uk/hausa/multimedia/2014/09/000000_ondemandbulletin\n",
        "\tNO DOCUMENT BODY"
       ]
      },
      {
       "output_type": "stream",
       "stream": "stdout",
       "text": [
        " http://www.bbc.co.uk/hausa/multimedia/2014/12/141204_hawking_human_ar?ocid=socialflow_twitter\n",
        "\tNO DOCUMENT BODY"
       ]
      },
      {
       "output_type": "stream",
       "stream": "stdout",
       "text": [
        " http://www.bbc.co.uk/hausa/multimedia/2014/12/141204_is_kerry_force?ocid=socialflow_twitter\n",
        "450"
       ]
      },
      {
       "output_type": "stream",
       "stream": "stdout",
       "text": [
        " http://t.co/do1CKxfiua\n",
        "\tNO DOCUMENT BODY"
       ]
      },
      {
       "output_type": "stream",
       "stream": "stdout",
       "text": [
        " http://www.bbc.co.uk/hausa/multimedia/2014/12/141204_bokoharam_vigilantes?ocid=socialflow_twitter\n",
        "\tNO DOCUMENT BODY"
       ]
      },
      {
       "output_type": "stream",
       "stream": "stdout",
       "text": [
        " https://audioboom.com/boos/2704121-yan-sintiri-sun-ce-yan-chadi-na-cikin-boko-haram?ocid=socialflow_twitter\n",
        "\tNO DOCUMENT BODY"
       ]
      },
      {
       "output_type": "stream",
       "stream": "stdout",
       "text": [
        " http://www.bbc.co.uk/hausa/multimedia/2014/12/141203_kenya_attack_mandera?ocid=socialflow_twitter\n",
        "\tNO DOCUMENT BODY"
       ]
      },
      {
       "output_type": "stream",
       "stream": "stdout",
       "text": [
        " http://www.bbc.co.uk/hausa/multimedia/2014/12/141203_niger_president_terrorism?ocid=socialflow_twitter\n",
        "475"
       ]
      },
      {
       "output_type": "stream",
       "stream": "stdout",
       "text": [
        " http://t.co/qCcbPRylPz\n",
        "\tNO DOCUMENT BODY"
       ]
      },
      {
       "output_type": "stream",
       "stream": "stdout",
       "text": [
        " http://www.bbc.co.uk/hausa/multimedia/2014/12/141203_bhopal_children_gallerr?ocid=socialflow_twitter\n",
        "\tNO DOCUMENT BODY"
       ]
      },
      {
       "output_type": "stream",
       "stream": "stdout",
       "text": [
        " https://audioboom.com/boos/2698080-namadi-sambo-ya-ce-gwamnatin-nigeria-ba-ta-da-hannu-a-hare-haren-bokoharam\n",
        "\tNO DOCUMENT BODY"
       ]
      },
      {
       "output_type": "stream",
       "stream": "stdout",
       "text": [
        " http://www.bbc.co.uk/hausa/multimedia/2014/12/141202_kano_victims?ocid=socialflow_twitter\n",
        "500"
       ]
      },
      {
       "output_type": "stream",
       "stream": "stdout",
       "text": [
        " http://t.co/gtI69F6XXh\n",
        "\tNO DOCUMENT BODY"
       ]
      },
      {
       "output_type": "stream",
       "stream": "stdout",
       "text": [
        " http://www.bbc.co.uk/hausa/multimedia/2014/12/141201_click011214?ocid=socialflow_twitter\n",
        "\tNO DOCUMENT BODY"
       ]
      },
      {
       "output_type": "stream",
       "stream": "stdout",
       "text": [
        " http://www.bbc.co.uk/hausa/multimedia/2014/12/141201_ebola_short?ocid=socialflow_twitter\n",
        "525"
       ]
      },
      {
       "output_type": "stream",
       "stream": "stdout",
       "text": [
        " http://t.co/15ivClm6KM\n",
        "\tNO DOCUMENT BODY"
       ]
      },
      {
       "output_type": "stream",
       "stream": "stdout",
       "text": [
        " http://www.bbc.co.uk/hausa/news/2014/11/141129_raayi-riga-kano-attack?ocid=socialflow_twitter\n",
        "550"
       ]
      },
      {
       "output_type": "stream",
       "stream": "stdout",
       "text": [
        " http://t.co/FYPMex2E9B\n",
        "\tNO DOCUMENT BODY"
       ]
      },
      {
       "output_type": "stream",
       "stream": "stdout",
       "text": [
        " http://www.bbc.co.uk/academy/hausa/article/art20141007170038993\n",
        "\tNO DOCUMENT BODY"
       ]
      },
      {
       "output_type": "stream",
       "stream": "stdout",
       "text": [
        " http://www.bbc.co.uk/hausa\n",
        "\tNO DOCUMENT BODY"
       ]
      },
      {
       "output_type": "stream",
       "stream": "stdout",
       "text": [
        " http://www.bbc.co.uk/hausa/multimedia/2014/11/141128_opec_oil_pricing?ocid=socialflow_twitter\n",
        "\tNO DOCUMENT BODY"
       ]
      },
      {
       "output_type": "stream",
       "stream": "stdout",
       "text": [
        " http://www.bbc.co.uk/hausa/multimedia/2014/11/141128_timbuktu_books?ocid=socialflow_twitter\n",
        "575"
       ]
      },
      {
       "output_type": "stream",
       "stream": "stdout",
       "text": [
        " http://t.co/f5pAYy9B5A\n",
        "\tNO DOCUMENT BODY"
       ]
      },
      {
       "output_type": "stream",
       "stream": "stdout",
       "text": [
        " http://www.bbc.co.uk/hausa/multimedia/2014/11/141127_ebola_trial_drugs?ocid=socialflow_twitter\n",
        "\tNO DOCUMENT BODY"
       ]
      },
      {
       "output_type": "stream",
       "stream": "stdout",
       "text": [
        " http://www.bbc.co.uk/academy/hausa/article/art20141007170038993\n",
        "\tNO DOCUMENT BODY"
       ]
      },
      {
       "output_type": "stream",
       "stream": "stdout",
       "text": [
        " http://www.bbc.co.uk/hausa/multimedia/2014/11/141127_uruguay_cattles_?ocid=socialflow_twitter\n",
        "\tNO DOCUMENT BODY"
       ]
      },
      {
       "output_type": "stream",
       "stream": "stdout",
       "text": [
        " https://audioboom.com/boos/2686974-wasu-yan-majalisar-dattawan-nigeria-na-shirin-tsige-shugaba-goodluck-jonathan?ocid=socialflow_twitter\n",
        "600"
       ]
      },
      {
       "output_type": "stream",
       "stream": "stdout",
       "text": [
        " http://t.co/cOoWBWObbm\n",
        "\tNO DOCUMENT BODY"
       ]
      },
      {
       "output_type": "stream",
       "stream": "stdout",
       "text": [
        " http://www.bbc.co.uk/hausa/multimedia/2014/11/141126_messi_gallery_record?ocid=socialflow_twitter\n",
        "\tNO DOCUMENT BODY"
       ]
      },
      {
       "output_type": "stream",
       "stream": "stdout",
       "text": [
        " http://www.bbc.co.uk/hausa/multimedia/2014/11/141126_amazon_lost_dog?ocid=socialflow_twitter\n",
        "\tNO DOCUMENT BODY"
       ]
      },
      {
       "output_type": "stream",
       "stream": "stdout",
       "text": [
        " http://www.bbc.co.uk/hausa/multimedia/2014/11/141126_ferguson_riots?ocid=socialflow_twitter\n",
        "\tNO DOCUMENT BODY"
       ]
      },
      {
       "output_type": "stream",
       "stream": "stdout",
       "text": [
        " http://www.bbc.co.uk/hausa/multimedia/2014/09/000000_ondemandbulletin\n",
        "625"
       ]
      },
      {
       "output_type": "stream",
       "stream": "stdout",
       "text": [
        " http://t.co/z7BhXyZqu5\n",
        "650"
       ]
      },
      {
       "output_type": "stream",
       "stream": "stdout",
       "text": [
        " http://t.co/nss9fNv7yB\n",
        "675"
       ]
      },
      {
       "output_type": "stream",
       "stream": "stdout",
       "text": [
        " http://t.co/7MDr0pNMiq\n",
        "\tNO DOCUMENT BODY"
       ]
      },
      {
       "output_type": "stream",
       "stream": "stdout",
       "text": [
        " http://www.bbc.co.uk/hausa/multimedia/2014/11/141121_raayiriga_bokoharam?ocid=socialflow_twitter\n",
        "\tNO DOCUMENT BODY"
       ]
      },
      {
       "output_type": "stream",
       "stream": "stdout",
       "text": [
        " http://www.bbc.co.uk/hausa/multimedia/2014/11/141121_obesity_worldwide?ocid=socialflow_twitter\n",
        "\tNO DOCUMENT BODY"
       ]
      },
      {
       "output_type": "stream",
       "stream": "stdout",
       "text": [
        " http://www.bbc.co.uk/hausa/multimedia/2014/11/141121_us_snow_newyork?ocid=socialflow_twitter\n",
        "700"
       ]
      },
      {
       "output_type": "stream",
       "stream": "stdout",
       "text": [
        " http://t.co/qj9VCqFMOB\n",
        "725"
       ]
      },
      {
       "output_type": "stream",
       "stream": "stdout",
       "text": [
        " http://t.co/lfgoxfWRFI\n",
        "\tNO DOCUMENT BODY"
       ]
      },
      {
       "output_type": "stream",
       "stream": "stdout",
       "text": [
        " http://www.bbc.co.uk/hausa/multimedia/2014/11/141119_burkina_faso_new_leader?ocid=socialflow_twitter\n",
        "\tNO DOCUMENT BODY"
       ]
      },
      {
       "output_type": "stream",
       "stream": "stdout",
       "text": [
        " http://www.bbc.co.uk/hausa/multimedia/2014/11/141119_un_women?ocid=socialflow_twitter\n",
        "\tNO DOCUMENT BODY"
       ]
      },
      {
       "output_type": "stream",
       "stream": "stdout",
       "text": [
        " http://www.bbc.co.uk/academy/hausa/article/art20141112111218705\n",
        "\tNO DOCUMENT BODY"
       ]
      },
      {
       "output_type": "stream",
       "stream": "stdout",
       "text": [
        " http://www.bbc.co.uk/blogs/blogcollegeofjournalism/posts/How-we-discovered-the-truth-about-YouTubes-Syrian-hero-boy-video\n",
        "\tNO DOCUMENT BODY"
       ]
      },
      {
       "output_type": "stream",
       "stream": "stdout",
       "text": [
        " https://audioboom.com/boos/2663866-gwamnan-jihar-katsina-a-nigeria-ibrahim-shema-ya-bukaci-yan-jam-iyyarsu-ta-pdp-su-buge-duk-wani-dan-adawa-da-ya-tsaya-a-hanyarsu\n",
        "750"
       ]
      },
      {
       "output_type": "stream",
       "stream": "stdout",
       "text": [
        " http://t.co/ReqpJWnPf5\n",
        "\tNO DOCUMENT BODY"
       ]
      },
      {
       "output_type": "stream",
       "stream": "stdout",
       "text": [
        " http://www.bbc.co.uk/hausa/multimedia/2014/11/141118_life_under_is?ocid=socialflow_twitter\n",
        "\tNO DOCUMENT BODY"
       ]
      },
      {
       "output_type": "stream",
       "stream": "stdout",
       "text": [
        " http://www.bbc.co.uk/hausa/multimedia/2014/11/141118_polio_success?ocid=socialflow_twitter\n",
        "\tNO DOCUMENT BODY"
       ]
      },
      {
       "output_type": "stream",
       "stream": "stdout",
       "text": [
        " http://www.bbc.co.uk/hausa/multimedia/2014/11/141118_mombasa_police_raid?ocid=socialflow_twitter\n",
        "\tNO DOCUMENT BODY"
       ]
      },
      {
       "output_type": "stream",
       "stream": "stdout",
       "text": [
        " http://www.bbc.co.uk/hausa/multimedia/2014/11/141117_ebola_orphans_gallery?ocid=socialflow_twitter\n",
        "775"
       ]
      },
      {
       "output_type": "stream",
       "stream": "stdout",
       "text": [
        " http://t.co/fbLTBlBoMP\n",
        "\tNO DOCUMENT BODY"
       ]
      },
      {
       "output_type": "stream",
       "stream": "stdout",
       "text": [
        " https://www.youtube.com/watch?v=RPYpa9Z07LU&list=UU-wos-YdZNZjOKeMONl79EA\n",
        "\tNO DOCUMENT BODY"
       ]
      },
      {
       "output_type": "stream",
       "stream": "stdout",
       "text": [
        " http://www.bbc.co.uk/hausa/multimedia/2014/11/141117_chibok_parents_greif?ocid=socialflow_twitter\n",
        "800"
       ]
      },
      {
       "output_type": "stream",
       "stream": "stdout",
       "text": [
        " http://t.co/4HH57huXbW\n",
        "\tNO DOCUMENT BODY"
       ]
      },
      {
       "output_type": "stream",
       "stream": "stdout",
       "text": [
        " http://www.bbc.co.uk/hausa/news/2014/11/141114_raayi-riga-inec?ocid=socialflow_twitter\n",
        "\tNO DOCUMENT BODY"
       ]
      },
      {
       "output_type": "stream",
       "stream": "stdout",
       "text": [
        " http://www.bbc.co.uk/hausa/multimedia/2014/11/141114_click141114?ocid=socialflow_twitter\n",
        "825"
       ]
      },
      {
       "output_type": "stream",
       "stream": "stdout",
       "text": [
        " http://t.co/Fnn28Idl13\n",
        "\tNO DOCUMENT BODY"
       ]
      },
      {
       "output_type": "stream",
       "stream": "stdout",
       "text": [
        " http://www.bbc.co.uk/hausa/multimedia/2014/11/141114_india_sterilisation?ocid=socialflow_twitter\n",
        "\tNO DOCUMENT BODY"
       ]
      },
      {
       "output_type": "stream",
       "stream": "stdout",
       "text": [
        " http://www.bbc.co.uk/hausa/multimedia/2014/11/141114_shell_oil_spillage?ocid=socialflow_twitter\n",
        "850"
       ]
      },
      {
       "output_type": "stream",
       "stream": "stdout",
       "text": [
        " http://t.co/hMOFkIktoK\n",
        "\tNO DOCUMENT BODY"
       ]
      },
      {
       "output_type": "stream",
       "stream": "stdout",
       "text": [
        " http://www.bbc.co.uk/hausa/multimedia/2014/11/141113_mali_ebola_vt?ocid=socialflow_twitter\n",
        "\tNO DOCUMENT BODY"
       ]
      },
      {
       "output_type": "stream",
       "stream": "stdout",
       "text": [
        " http://www.bbc.co.uk/hausa/multimedia/2014/11/141113_syria_war?ocid=socialflow_twitter\n",
        "\tNO DOCUMENT BODY"
       ]
      },
      {
       "output_type": "stream",
       "stream": "stdout",
       "text": [
        " http://www.bbc.co.uk/hausa/multimedia/2014/11/141113_enyeama_profile?ocid=socialflow_twitter\n",
        "875"
       ]
      },
      {
       "output_type": "stream",
       "stream": "stdout",
       "text": [
        " http://t.co/NVIWLmc87U\n",
        "\tNO DOCUMENT BODY"
       ]
      },
      {
       "output_type": "stream",
       "stream": "stdout",
       "text": [
        " http://www.bbc.co.uk/hausa/multimedia/2014/11/141112_congo_beni_killings?ocid=socialflow_twitter\n",
        "\tNO DOCUMENT BODY"
       ]
      },
      {
       "output_type": "stream",
       "stream": "stdout",
       "text": [
        " http://www.bbc.co.uk/hausa/multimedia/2014/11/141112_brahimi_profile?ocid=socialflow_twitter\n",
        "\tNO DOCUMENT BODY"
       ]
      },
      {
       "output_type": "stream",
       "stream": "stdout",
       "text": [
        " http://www.bbc.co.uk/hausa/multimedia/2014/09/000000_ondemandbulletin\n",
        "\tNO DOCUMENT BODY"
       ]
      },
      {
       "output_type": "stream",
       "stream": "stdout",
       "text": [
        " http://www.bbc.co.uk/hausa/multimedia/2014/11/141111_guinea_ebola?ocid=socialflow_twitter\n",
        "900 http://t.co/93VEwrbmTT\n",
        "925"
       ]
      },
      {
       "output_type": "stream",
       "stream": "stdout",
       "text": [
        " http://t.co/kIUe44Gl7R\n",
        "950"
       ]
      },
      {
       "output_type": "stream",
       "stream": "stdout",
       "text": [
        " http://t.co/W7OuHXFNwq\n",
        "\tNO DOCUMENT BODY"
       ]
      },
      {
       "output_type": "stream",
       "stream": "stdout",
       "text": [
        " http://www.bbc.co.uk/hausa/multimedia/2014/11/141107_raayiriga_bh_tsagaita_wuta?ocid=socialflow_twitter\n",
        "\tNO DOCUMENT BODY"
       ]
      },
      {
       "output_type": "stream",
       "stream": "stdout",
       "text": [
        " http://www.bbc.co.uk/hausa/multimedia/2014/11/141107_click_071114?ocid=socialflow_twitter\n",
        "975"
       ]
      },
      {
       "output_type": "stream",
       "stream": "stdout",
       "text": [
        " http://t.co/khzxCn6vUY\n",
        "\tNO DOCUMENT BODY"
       ]
      },
      {
       "output_type": "stream",
       "stream": "stdout",
       "text": [
        " http://www.bbc.co.uk/hausa/multimedia/2014/11/141106_tanzania_old_ship?ocid=socialflow_twitter\n",
        "\tNO DOCUMENT BODY"
       ]
      },
      {
       "output_type": "stream",
       "stream": "stdout",
       "text": [
        " http://www.bbc.co.uk/hausa/multimedia/2014/11/141106_kano_bokoharam_refugees?ocid=socialflow_twitter\n",
        "\tNO DOCUMENT BODY"
       ]
      },
      {
       "output_type": "stream",
       "stream": "stdout",
       "text": [
        " http://www.bbc.co.uk/hausa/multimedia/2014/11/141106_bee_keeping_training?ocid=socialflow_twitter\n",
        "1000"
       ]
      },
      {
       "output_type": "stream",
       "stream": "stdout",
       "text": [
        " http://t.co/d90rquw2eN\n",
        "\tNO DOCUMENT BODY"
       ]
      },
      {
       "output_type": "stream",
       "stream": "stdout",
       "text": [
        " http://www.bbc.co.uk/hausa/multimedia/2014/11/141105_statelessness_new?ocid=socialflow_twitter\n",
        "1025"
       ]
      },
      {
       "output_type": "stream",
       "stream": "stdout",
       "text": [
        " http://t.co/Lo7j4lCM09\n",
        "\tNO DOCUMENT BODY"
       ]
      },
      {
       "output_type": "stream",
       "stream": "stdout",
       "text": [
        " http://www.bbc.co.uk/hausa/multimedia/2014/11/141104_china_hollywood?ocid=socialflow_twitter\n",
        "\tNO DOCUMENT BODY"
       ]
      },
      {
       "output_type": "stream",
       "stream": "stdout",
       "text": [
        " http://www.bbc.co.uk/hausa/multimedia/2014/11/141104_burkinafaso_power?ocid=socialflow_twitter\n",
        "1050"
       ]
      },
      {
       "output_type": "stream",
       "stream": "stdout",
       "text": [
        " http://t.co/olgkq6aKPv\n",
        "\tNO DOCUMENT BODY"
       ]
      },
      {
       "output_type": "stream",
       "stream": "stdout",
       "text": [
        " http://www.bbc.co.uk/hausa/multimedia/2014/11/141103_morocco_ebola?ocid=socialflow_twitter\n",
        "\tNO DOCUMENT BODY"
       ]
      },
      {
       "output_type": "stream",
       "stream": "stdout",
       "text": [
        " http://www.bbc.co.uk/hausa/multimedia/2014/11/141103_gallery_africa_pictures?ocid=socialflow_twitter\n",
        "\tNO DOCUMENT BODY"
       ]
      },
      {
       "output_type": "stream",
       "stream": "stdout",
       "text": [
        " http://www.bbc.co.uk/hausa/multimedia/2014/11/141103_america_tightrope?ocid=socialflow_twitter\n",
        "1075"
       ]
      },
      {
       "output_type": "stream",
       "stream": "stdout",
       "text": [
        " http://t.co/PVzEkYAdD9\n",
        "1100"
       ]
      },
      {
       "output_type": "stream",
       "stream": "stdout",
       "text": [
        " http://t.co/xo61QMSGtv\n",
        "\tNO DOCUMENT BODY"
       ]
      },
      {
       "output_type": "stream",
       "stream": "stdout",
       "text": [
        " http://www.bbc.co.uk/hausa/multimedia/2014/10/141031_raayiriga_311014?ocid=socialflow_twitter\n",
        "\tNO DOCUMENT BODY"
       ]
      },
      {
       "output_type": "stream",
       "stream": "stdout",
       "text": [
        " http://www.bbc.co.uk/hausa/multimedia/2014/10/141031_click311014?ocid=socialflow_twitter\n",
        "\tNO DOCUMENT BODY"
       ]
      },
      {
       "output_type": "stream",
       "stream": "stdout",
       "text": [
        " http://www.bbc.co.uk/hausa/multimedia/2014/10/141031_africa_beat_serie_8?ocid=socialflow_twitter\n",
        "1125"
       ]
      },
      {
       "output_type": "stream",
       "stream": "stdout",
       "text": [
        " http://t.co/QvBoVLLlM2\n",
        "\tNO DOCUMENT BODY"
       ]
      },
      {
       "output_type": "stream",
       "stream": "stdout",
       "text": [
        " http://www.bbc.co.uk/hausa/multimedia/2014/09/000000_ondemandbulletin\n",
        "\tNO DOCUMENT BODY"
       ]
      },
      {
       "output_type": "stream",
       "stream": "stdout",
       "text": [
        " http://www.bbc.co.uk/hausa/multimedia/2014/10/141030_burkinafaso_protest?ocid=socialflow_twitter\n",
        "1150"
       ]
      },
      {
       "output_type": "stream",
       "stream": "stdout",
       "text": [
        " http://t.co/UrYQyREhXW\n",
        "\tNO DOCUMENT BODY"
       ]
      },
      {
       "output_type": "stream",
       "stream": "stdout",
       "text": [
        " http://www.bbc.co.uk/hausa/multimedia/2014/10/141029_ebola_worldbank?ocid=socialflow_twitter\n",
        "\tNO DOCUMENT BODY"
       ]
      },
      {
       "output_type": "stream",
       "stream": "stdout",
       "text": [
        " http://www.bbc.co.uk/hausa/multimedia/2014/10/141029_italy_migrants?ocid=socialflow_twitter\n",
        "\tNO DOCUMENT BODY"
       ]
      },
      {
       "output_type": "stream",
       "stream": "stdout",
       "text": [
        " http://www.bbc.co.uk/hausa/multimedia/2014/10/141029_kenya_female_emily?ocid=socialflow_twitter\n",
        "\tNO DOCUMENT BODY"
       ]
      },
      {
       "output_type": "stream",
       "stream": "stdout",
       "text": [
        " http://www.bbc.co.uk/hausa/multimedia/2014/10/141029_zambia_sata_video_obit?ocid=socialflow_twitter\n",
        "1175 http://t.co/7rrRMJ32LE\n",
        "\tNO DOCUMENT BODY"
       ]
      },
      {
       "output_type": "stream",
       "stream": "stdout",
       "text": [
        " http://www.bbc.co.uk/news/world-africa-29801187?ocid=socialflow_twitter#sa-ns_mchannel=rss&ns_source=PublicRSS20-sa\n",
        "\tNO DOCUMENT BODY"
       ]
      },
      {
       "output_type": "stream",
       "stream": "stdout",
       "text": [
        " http://www.bbc.co.uk/academy/hausa/how-to/original-journalism/article/art20130702112134207\n",
        "\tNO DOCUMENT BODY"
       ]
      },
      {
       "output_type": "stream",
       "stream": "stdout",
       "text": [
        " http://www.bbc.co.uk/hausa/multimedia/2014/10/141028_africa_pic_gallery?ocid=socialflow_twitter\n",
        "\tNO DOCUMENT BODY"
       ]
      },
      {
       "output_type": "stream",
       "stream": "stdout",
       "text": [
        " http://www.bbc.co.uk/news/world-29792551\n",
        "\tNO DOCUMENT BODY"
       ]
      },
      {
       "output_type": "stream",
       "stream": "stdout",
       "text": [
        " https://audioboom.com/boos/2600421-zan-janyewa-wanda-ya-fi-ni-cancanta-kwankwaso-http-bbc-in-zx1p4q\n",
        "1200"
       ]
      },
      {
       "output_type": "stream",
       "stream": "stdout",
       "text": [
        " http://t.co/hCJDIoAUqp\n",
        "\tNO DOCUMENT BODY"
       ]
      },
      {
       "output_type": "stream",
       "stream": "stdout",
       "text": [
        " http://www.bbc.co.uk/hausa/multimedia/2014/10/141027_bokoharam_escape?ocid=socialflow_twitter\n",
        "\tNO DOCUMENT BODY"
       ]
      },
      {
       "output_type": "stream",
       "stream": "stdout",
       "text": [
        " http://www.bbc.co.uk/hausa/multimedia/2014/10/141027_meyiwa_shot_dead?ocid=socialflow_twitter\n",
        "\tNO DOCUMENT BODY"
       ]
      },
      {
       "output_type": "stream",
       "stream": "stdout",
       "text": [
        " https://audioboom.com/boos/2597484-yadda-na-kubuta-daga-hannun-yan-boko-haram\n",
        "1225 http://t.co/uON34tJ8t3\n",
        "\tNO DOCUMENT BODY"
       ]
      },
      {
       "output_type": "stream",
       "stream": "stdout",
       "text": [
        " http://www.bbc.co.uk/hausa/multimedia/2014/10/141024_raayiriga_massliteracy?ocid=socialflow_twitter\n",
        "1250"
       ]
      },
      {
       "output_type": "stream",
       "stream": "stdout",
       "text": [
        " http://t.co/DgK58MPxym\n",
        "\tNO DOCUMENT BODY"
       ]
      },
      {
       "output_type": "stream",
       "stream": "stdout",
       "text": [
        " http://www.bbc.co.uk/hausa/multimedia/2014/10/141024_zambia_presidents_indepences?ocid=socialflow_twitter\n",
        "\tNO DOCUMENT BODY"
       ]
      },
      {
       "output_type": "stream",
       "stream": "stdout",
       "text": [
        " http://www.bbc.co.uk/hausa/multimedia/2014/10/141024_bidiyonfasaha?ocid=socialflow_twitter\n",
        "\tNO DOCUMENT BODY"
       ]
      },
      {
       "output_type": "stream",
       "stream": "stdout",
       "text": [
        " http://www.bbc.co.uk/hausa/multimedia/2014/10/141024_click241014?ocid=socialflow_twitter\n",
        "\tNO DOCUMENT BODY"
       ]
      },
      {
       "output_type": "stream",
       "stream": "stdout",
       "text": [
        " http://www.bbc.co.uk/hausa/multimedia/2014/10/141024_lalanjava_musician?ocid=socialflow_twitter\n",
        "\tNO DOCUMENT BODY"
       ]
      },
      {
       "output_type": "stream",
       "stream": "stdout",
       "text": [
        " http://www.bbc.co.uk/hausa/multimedia/2014/10/141024_paralysis_polland?ocid=socialflow_twitter\n",
        "1275"
       ]
      },
      {
       "output_type": "stream",
       "stream": "stdout",
       "text": [
        " http://t.co/6pvkr2zRS5\n",
        "1300"
       ]
      },
      {
       "output_type": "stream",
       "stream": "stdout",
       "text": [
        " http://t.co/u0Qp3LWRmJ\n",
        "\tNO DOCUMENT BODY"
       ]
      },
      {
       "output_type": "stream",
       "stream": "stdout",
       "text": [
        " http://www.bbc.co.uk/hausa/multimedia/2014/10/141022_cojo_hausa_promo?ocid=socialflow_twitter\n",
        "\tNO DOCUMENT BODY"
       ]
      },
      {
       "output_type": "stream",
       "stream": "stdout",
       "text": [
        " http://www.bbc.co.uk/hausa/multimedia/2014/10/141021_pistorius_sentence?ocid=socialflow_twitter\n",
        "1325 http://t.co/V46uFEIgaW\n",
        "\tNO DOCUMENT BODY"
       ]
      },
      {
       "output_type": "stream",
       "stream": "stdout",
       "text": [
        " http://www.bbc.co.uk/hausa/multimedia/2014/10/141021_burkinafaso_plasticbags?ocid=socialflow_twitter\n",
        "1350"
       ]
      },
      {
       "output_type": "stream",
       "stream": "stdout",
       "text": [
        " http://t.co/f7GAnXgAWG\n",
        "\tNO DOCUMENT BODY"
       ]
      },
      {
       "output_type": "stream",
       "stream": "stdout",
       "text": [
        " http://www.bbc.co.uk/hausa/multimedia/2014/10/141020_ebola_nigeria_free?ocid=socialflow_twitter\n",
        "1375"
       ]
      },
      {
       "output_type": "stream",
       "stream": "stdout",
       "text": [
        " http://t.co/crgcCib5uq\n",
        "\tNO DOCUMENT BODY"
       ]
      },
      {
       "output_type": "stream",
       "stream": "stdout",
       "text": [
        " http://www.bbc.co.uk/hausa/multimedia/2014/10/141017_football_academy?ocid=socialflow_twitter\n",
        "\tNO DOCUMENT BODY"
       ]
      },
      {
       "output_type": "stream",
       "stream": "stdout",
       "text": [
        " http://www.bbc.co.uk/hausa/news/2014/10/141017_hhys_bhceasefire?ocid=socialflow_twitter\n",
        "\tNO DOCUMENT BODY"
       ]
      },
      {
       "output_type": "stream",
       "stream": "stdout",
       "text": [
        " http://www.bbc.co.uk/hausa/multimedia/2014/10/141015_fsh-music?ocid=socialflow_twitter\n",
        "1400"
       ]
      },
      {
       "output_type": "stream",
       "stream": "stdout",
       "text": [
        " http://t.co/cp4DQrCr94\n",
        "1425"
       ]
      },
      {
       "output_type": "stream",
       "stream": "stdout",
       "text": [
        " http://t.co/J25hnty9Ms\n",
        "\tNO DOCUMENT BODY"
       ]
      },
      {
       "output_type": "stream",
       "stream": "stdout",
       "text": [
        " http://www.bbc.co.uk/hausa/multimedia/2014/10/141015_north_korea?ocid=socialflow_twitter\n",
        "\tNO DOCUMENT BODY"
       ]
      },
      {
       "output_type": "stream",
       "stream": "stdout",
       "text": [
        " http://www.bbc.co.uk/hausa/multimedia/2014/10/141014_ebola_explainer_gfx?ocid=socialflow_twitter\n",
        "1450"
       ]
      },
      {
       "output_type": "stream",
       "stream": "stdout",
       "text": [
        " http://t.co/pwbthhr9Lg\n",
        "1475"
       ]
      },
      {
       "output_type": "stream",
       "stream": "stdout",
       "text": [
        " http://t.co/zukwHj81Bo\n",
        "1500"
       ]
      },
      {
       "output_type": "stream",
       "stream": "stdout",
       "text": [
        " http://t.co/GrYU9MnXS3\n",
        "\tNO DOCUMENT BODY"
       ]
      },
      {
       "output_type": "stream",
       "stream": "stdout",
       "text": [
        " http://www.bbc.co.uk/hausa/multimedia/2014/10/141010_click_10102014?ocid=socialflow_twitter\n",
        "1525"
       ]
      },
      {
       "output_type": "stream",
       "stream": "stdout",
       "text": [
        " http://t.co/DYm3pClANL\n",
        "1550"
       ]
      },
      {
       "output_type": "stream",
       "stream": "stdout",
       "text": [
        " http://t.co/sEf33WALzh\n",
        "\tNO DOCUMENT BODY"
       ]
      },
      {
       "output_type": "stream",
       "stream": "stdout",
       "text": [
        " http://www.bbc.co.uk/hausa/multimedia/2014/10/141008_icc_criminalcourt_kenyatta?ocid=socialflow_twitter\n",
        "\tNO DOCUMENT BODY"
       ]
      },
      {
       "output_type": "stream",
       "stream": "stdout",
       "text": [
        " http://www.bbc.co.uk/academy/hausa/language/bitesize/article/art20141007170038993\n",
        "\tNO DOCUMENT BODY"
       ]
      },
      {
       "output_type": "stream",
       "stream": "stdout",
       "text": [
        " http://www.bbc.co.uk/hausa/multimedia/2014/10/141007_catholic_synod?ocid=socialflow_twitter\n",
        "1575"
       ]
      },
      {
       "output_type": "stream",
       "stream": "stdout",
       "text": [
        " http://t.co/V3cE9RWt8S\n",
        "\tNO DOCUMENT BODY"
       ]
      },
      {
       "output_type": "stream",
       "stream": "stdout",
       "text": [
        " http://www.bbc.co.uk/news/uk-politics-29488451?ocid=socialflow_twitter\n",
        "\tNO DOCUMENT BODY"
       ]
      },
      {
       "output_type": "stream",
       "stream": "stdout",
       "text": [
        " http://www.bbc.co.uk/news/health-29474475?ocid=socialflow_twitter\n",
        "\tNO DOCUMENT BODY"
       ]
      },
      {
       "output_type": "stream",
       "stream": "stdout",
       "text": [
        " http://www.bbc.co.uk/news/health-29488458?ocid=socialflow_twitter\n",
        "\tNO DOCUMENT BODY"
       ]
      },
      {
       "output_type": "stream",
       "stream": "stdout",
       "text": [
        " http://www.bbc.co.uk/news/world-29484922?ocid=socialflow_twitter\n",
        "\tNO DOCUMENT BODY"
       ]
      },
      {
       "output_type": "stream",
       "stream": "stdout",
       "text": [
        " http://www.bbc.co.uk/news/uk-29488453?ocid=socialflow_twitter\n",
        "\tNO DOCUMENT BODY"
       ]
      },
      {
       "output_type": "stream",
       "stream": "stdout",
       "text": [
        " http://www.bbc.co.uk/news/health-29502501?ocid=socialflow_twitter\n",
        "\tNO DOCUMENT BODY"
       ]
      },
      {
       "output_type": "stream",
       "stream": "stdout",
       "text": [
        " http://www.bbc.co.uk/news/world-us-canada-29501964?ocid=socialflow_twitter\n",
        "\tNO DOCUMENT BODY"
       ]
      },
      {
       "output_type": "stream",
       "stream": "stdout",
       "text": [
        " http://www.bbc.co.uk/news/uk-england-29466124?ocid=socialflow_twitter\n",
        "1600"
       ]
      },
      {
       "output_type": "stream",
       "stream": "stdout",
       "text": [
        " http://t.co/9y0mh84tWM\n",
        "\tNO DOCUMENT BODY"
       ]
      },
      {
       "output_type": "stream",
       "stream": "stdout",
       "text": [
        " http://www.bbc.co.uk/hausa/news/2014/10/141003_raayiriga_matsalarkabilanci?ocid=socialflow_twitter\n",
        "\tNO DOCUMENT BODY"
       ]
      },
      {
       "output_type": "stream",
       "stream": "stdout",
       "text": [
        " http://www.bbc.co.uk/hausa/multimedia/2014/10/141003_hausa_click_0310?ocid=socialflow_twitter\n",
        "1625"
       ]
      },
      {
       "output_type": "stream",
       "stream": "stdout",
       "text": [
        " http://t.co/4A8w0qtAzb\n",
        "\tNO DOCUMENT BODY"
       ]
      },
      {
       "output_type": "stream",
       "stream": "stdout",
       "text": [
        " http://www.bbc.co.uk/hausa/multimedia/2014/10/141001_afirka_tsofaffi?ocid=socialflow_twitter\n",
        "\tNO DOCUMENT BODY"
       ]
      },
      {
       "output_type": "stream",
       "stream": "stdout",
       "text": [
        " http://www.bbc.co.uk/hausa/multimedia/2014/10/141001_gwaggon_biri?ocid=socialflow_twitter\n",
        "1650"
       ]
      },
      {
       "output_type": "stream",
       "stream": "stdout",
       "text": [
        " http://t.co/uhl1FS1NTy\n",
        "\tNO DOCUMENT BODY"
       ]
      },
      {
       "output_type": "stream",
       "stream": "stdout",
       "text": [
        " http://www.bbc.co.uk/hausa/multimedia/2014/09/140930_hong_kong_protest?ocid=socialflow_twitter\n",
        "\tNO DOCUMENT BODY"
       ]
      },
      {
       "output_type": "stream",
       "stream": "stdout",
       "text": [
        " http://www.bbc.co.uk/hausa/multimedia/2014/09/140930_marayu_ebola?ocid=socialflow_twitter\n",
        "\tNO DOCUMENT BODY"
       ]
      },
      {
       "output_type": "stream",
       "stream": "stdout",
       "text": [
        " http://www.bbc.co.uk/hausa/multimedia/2014/09/140930_namun_daji?ocid=socialflow_twitter\n",
        "\tNO DOCUMENT BODY"
       ]
      },
      {
       "output_type": "stream",
       "stream": "stdout",
       "text": [
        " http://www.bbc.co.uk/hausa/multimedia/2014/09/140930_ebola_marayu?ocid=socialflow_twitter\n",
        "1675"
       ]
      },
      {
       "output_type": "stream",
       "stream": "stdout",
       "text": [
        " http://t.co/uYMUamL3WB\n",
        "\tNO DOCUMENT BODY"
       ]
      },
      {
       "output_type": "stream",
       "stream": "stdout",
       "text": [
        " http://www.bbc.co.uk/hausa/multimedia/2014/09/140929_sudan_apostocy_campaign?ocid=socialflow_twitter\n",
        "\tNO DOCUMENT BODY"
       ]
      },
      {
       "output_type": "stream",
       "stream": "stdout",
       "text": [
        " http://www.bbc.co.uk/hausa/multimedia/2014/09/140929_africa_beats_hausa?ocid=socialflow_twitter\n",
        "1700"
       ]
      },
      {
       "output_type": "stream",
       "stream": "stdout",
       "text": [
        " http://t.co/gEzc2wl5ya\n",
        "1725"
       ]
      },
      {
       "output_type": "stream",
       "stream": "stdout",
       "text": [
        " http://t.co/hZuX9LBh07\n",
        "\tNO DOCUMENT BODY"
       ]
      },
      {
       "output_type": "stream",
       "stream": "stdout",
       "text": [
        " http://www.bbc.co.uk/hausa/multimedia/2014/09/140811_raayi_riga260914?ocid=socialflow_twitter\n",
        "\tNO DOCUMENT BODY"
       ]
      },
      {
       "output_type": "stream",
       "stream": "stdout",
       "text": [
        " http://www.bbc.co.uk/hausa/multimedia/2014/09/140926_great_lakes?ocid=socialflow_twitter\n",
        "\tNO DOCUMENT BODY"
       ]
      },
      {
       "output_type": "stream",
       "stream": "stdout",
       "text": [
        " http://www.bbc.co.uk/hausa/multimedia/2014/09/140926_click?ocid=socialflow_twitter\n",
        "\tNO DOCUMENT BODY"
       ]
      },
      {
       "output_type": "stream",
       "stream": "stdout",
       "text": [
        " http://careerssearch.bbc.co.uk/jobs/job/Bilingual-Reporter-Nigeria-EnglishHausa/9645\n",
        "\tNO DOCUMENT BODY"
       ]
      },
      {
       "output_type": "stream",
       "stream": "stdout",
       "text": [
        " http://www.bbc.co.uk/hausa/multimedia/2014/09/140925_saliyo_expand_quarantine?ocid=socialflow_twitter\n",
        "1750 http://t.co/W5Y9W6hKGp\n",
        "\tNO DOCUMENT BODY"
       ]
      },
      {
       "output_type": "stream",
       "stream": "stdout",
       "text": [
        " http://www.bbc.co.uk/hausa/multimedia/2014/09/140924_ebola_saliyo_burtaniya?ocid=socialflow_twitter\n",
        "1775"
       ]
      },
      {
       "output_type": "stream",
       "stream": "stdout",
       "text": [
        " http://t.co/EL2fqp1E60\n",
        "\tNO DOCUMENT BODY"
       ]
      },
      {
       "output_type": "stream",
       "stream": "stdout",
       "text": [
        " http://www.bbc.co.uk/hausa/multimedia/2014/09/140924_liberia_trees?ocid=socialflow_twitter\n",
        "\tNO DOCUMENT BODY"
       ]
      },
      {
       "output_type": "stream",
       "stream": "stdout",
       "text": [
        " http://www.bbc.co.uk/academy/hausa/article/art20140923161913016\n",
        "1800"
       ]
      },
      {
       "output_type": "stream",
       "stream": "stdout",
       "text": [
        " http://t.co/ee388jZMgb\n",
        "\tNO DOCUMENT BODY"
       ]
      },
      {
       "output_type": "stream",
       "stream": "stdout",
       "text": [
        " http://www.bbc.co.uk/hausa/multimedia/2014/09/140922_ebola_sierraleone_lockdown?ocid=socialflow_twitter\n",
        "1825"
       ]
      },
      {
       "output_type": "stream",
       "stream": "stdout",
       "text": [
        " http://t.co/UaPR85NfR1\n",
        "1850"
       ]
      },
      {
       "output_type": "stream",
       "stream": "stdout",
       "text": [
        " http://t.co/tOobUgJ7mS\n",
        "\tNO DOCUMENT BODY"
       ]
      },
      {
       "output_type": "stream",
       "stream": "stdout",
       "text": [
        " http://www.bbc.co.uk/hausa/multimedia/2014/09/140919_raayiriga190914?ocid=socialflow_twitter\n",
        "\tNO DOCUMENT BODY"
       ]
      },
      {
       "output_type": "stream",
       "stream": "stdout",
       "text": [
        " http://www.bbc.co.uk/hausa/multimedia/2014/09/140919_click190914?ocid=socialflow_twitter\n",
        "\tNO DOCUMENT BODY"
       ]
      },
      {
       "output_type": "stream",
       "stream": "stdout",
       "text": [
        " http://www.bbc.co.uk/hausa/multimedia/2014/09/140919_fsh-music2?ocid=socialflow_twitter\n",
        "\tNO DOCUMENT BODY"
       ]
      },
      {
       "output_type": "stream",
       "stream": "stdout",
       "text": [
        " http://www.bbc.co.uk/hausa/multimedia/2014/09/140919_atiku_2015_controversies?ocid=socialflow_twitter\n",
        "\tNO DOCUMENT BODY"
       ]
      },
      {
       "output_type": "stream",
       "stream": "stdout",
       "text": [
        " http://www.bbc.co.uk/hausa/multimedia/2014/09/000000_ondemandbulletin\n",
        "1875"
       ]
      },
      {
       "output_type": "stream",
       "stream": "stdout",
       "text": [
        " http://t.co/yxiMersnsN\n",
        "\tNO DOCUMENT BODY"
       ]
      },
      {
       "output_type": "stream",
       "stream": "stdout",
       "text": [
        " http://www.bbc.co.uk/hausa/multimedia/2014/09/140918_westgate_explainer?ocid=socialflow_twitter\n",
        "\tNO DOCUMENT BODY"
       ]
      },
      {
       "output_type": "stream",
       "stream": "stdout",
       "text": [
        " http://www.bbc.co.uk/hausa/multimedia/2014/09/140917_ebola_trial_britain?ocid=socialflow_twitter\n",
        "1900"
       ]
      },
      {
       "output_type": "stream",
       "stream": "stdout",
       "text": [
        " http://t.co/cytGtFNSuU\n",
        "\tNO DOCUMENT BODY"
       ]
      },
      {
       "output_type": "stream",
       "stream": "stdout",
       "text": [
        " http://www.bbc.co.uk/hausa/multimedia/2014/09/140916_bbcwellwisher_hausa?ocid=socialflow_twitter\n",
        "\tNO DOCUMENT BODY"
       ]
      },
      {
       "output_type": "stream",
       "stream": "stdout",
       "text": [
        " http://www.bbc.co.uk/academy/hausa/how-to/production/article/art20140916162020533\n",
        "\tNO DOCUMENT BODY"
       ]
      },
      {
       "output_type": "stream",
       "stream": "stdout",
       "text": [
        " http://www.bbc.co.uk/hausa/multimedia/2014/09/140916_emir_sanusi_video?ocid=socialflow_twitter\n",
        "1925"
       ]
      },
      {
       "output_type": "stream",
       "stream": "stdout",
       "text": [
        " http://t.co/XtoWfBfdqg\n",
        "1950"
       ]
      },
      {
       "output_type": "stream",
       "stream": "stdout",
       "text": [
        " http://t.co/0m5CwN80BU\n",
        "\tNO DOCUMENT BODY"
       ]
      },
      {
       "output_type": "stream",
       "stream": "stdout",
       "text": [
        " http://www.bbc.co.uk/hausa/multimedia/2014/09/140913_africa_beat_hausa?ocid=socialflow_twitter\n",
        "\tNO DOCUMENT BODY"
       ]
      },
      {
       "output_type": "stream",
       "stream": "stdout",
       "text": [
        " http://www.bbc.co.uk/hausa/multimedia/2014/09/140811_raayi_yanhijira?ocid=socialflow_twitter\n",
        "\tNO DOCUMENT BODY"
       ]
      },
      {
       "output_type": "stream",
       "stream": "stdout",
       "text": [
        " http://www.bbc.co.uk/hausa/multimedia/2014/09/000000_ondemandbulletin\n",
        "\tNO DOCUMENT BODY"
       ]
      },
      {
       "output_type": "stream",
       "stream": "stdout",
       "text": [
        " http://www.bbc.co.uk/hausa/multimedia/2014/09/140912_click120914?ocid=socialflow_twitter\n",
        "\tNO DOCUMENT BODY"
       ]
      },
      {
       "output_type": "stream",
       "stream": "stdout",
       "text": [
        " http://www.bbc.co.uk/hausa/multimedia/2014/09/140912_ghana_scrap_bola?ocid=socialflow_twitter\n",
        "\tNO DOCUMENT BODY"
       ]
      },
      {
       "output_type": "stream",
       "stream": "stdout",
       "text": [
        " http://www.bbc.co.uk/hausa/multimedia/2014/09/140911_oscar_pistorius_explainer?ocid=socialflow_twitter\n",
        "\tNO DOCUMENT BODY"
       ]
      },
      {
       "output_type": "stream",
       "stream": "stdout",
       "text": [
        " http://www.bbc.co.uk/hausa/multimedia/2014/09/140911_niger_ebola_minister?ocid=socialflow_twitter\n",
        "1975 http://t.co/yvOuK2ei3o\n",
        "\tNO DOCUMENT BODY"
       ]
      },
      {
       "output_type": "stream",
       "stream": "stdout",
       "text": [
        " http://www.bbc.co.uk/hausa/multimedia/2014/09/000000_ondemandbulletin\n",
        "\tNO DOCUMENT BODY"
       ]
      },
      {
       "output_type": "stream",
       "stream": "stdout",
       "text": [
        " http://www.bbc.co.uk/hausa/multimedia/2014/09/140911_nigeria_pensioners_protest?ocid=socialflow_twitter\n",
        "\tNO DOCUMENT BODY"
       ]
      },
      {
       "output_type": "stream",
       "stream": "stdout",
       "text": [
        " http://www.bbc.co.uk/hausa/multimedia/2014/09/140911_niger_ebola_minister.shtml?ocid=socialflow_twitter\n",
        "\tNO DOCUMENT BODY"
       ]
      },
      {
       "output_type": "stream",
       "stream": "stdout",
       "text": [
        " http://www.bbc.co.uk/hausa/multimedia/2014/09/140911_nigeria_pensioners_protest.shtml?ocid=socialflow_twitter\n",
        "\tNO DOCUMENT BODY"
       ]
      },
      {
       "output_type": "stream",
       "stream": "stdout",
       "text": [
        " http://www.bbc.co.uk/hausa/multimedia/2014/09/140911_oscar_pistorius_explainer.shtml?ocid=socialflow_twitter\n",
        "2000"
       ]
      },
      {
       "output_type": "stream",
       "stream": "stdout",
       "text": [
        " http://t.co/bcpgjq93ij\n",
        "\tNO DOCUMENT BODY"
       ]
      },
      {
       "output_type": "stream",
       "stream": "stdout",
       "text": [
        " http://www.bbc.co.uk/hausa/multimedia/2014/09/000000_livebulletin.shtml?ocid=socialflow_twitter\n",
        "\tNO DOCUMENT BODY"
       ]
      },
      {
       "output_type": "stream",
       "stream": "stdout",
       "text": [
        " http://www.bbc.co.uk/hausa/multimedia/2014/09/140910_apple_launch_short.shtml?ocid=socialflow_twitter\n",
        "\tNO DOCUMENT BODY"
       ]
      },
      {
       "output_type": "stream",
       "stream": "stdout",
       "text": [
        " http://www.bbc.co.uk/hausa/multimedia/2014/09/140910_ghana_nima_market.shtml?ocid=socialflow_twitter\n",
        "\tNO DOCUMENT BODY"
       ]
      },
      {
       "output_type": "stream",
       "stream": "stdout",
       "text": [
        " http://www.bbc.co.uk/hausa/multimedia/2014/09/140910_ebola_msf_liberia.shtml?ocid=socialflow_twitter\n",
        "2025"
       ]
      },
      {
       "output_type": "stream",
       "stream": "stdout",
       "text": [
        " http://t.co/33J7LT2OXQ\n",
        "\tNO DOCUMENT BODY"
       ]
      },
      {
       "output_type": "stream",
       "stream": "stdout",
       "text": [
        " http://www.bbc.co.uk/hausa/multimedia/2014/09/140909_hausa_tv_launch_.shtml?ocid=socialflow_twitter\n",
        "\tNO DOCUMENT BODY"
       ]
      },
      {
       "output_type": "stream",
       "stream": "stdout",
       "text": [
        " http://www.bbc.co.uk/hausa/multimedia/2014/09/000000_ondemandbulletin.shtml?ocid=socialflow_twitter\n",
        "2050"
       ]
      },
      {
       "output_type": "stream",
       "stream": "stdout",
       "text": [
        " http://t.co/nv4AQpK4jq\n",
        "\tNO DOCUMENT BODY"
       ]
      },
      {
       "output_type": "stream",
       "stream": "stdout",
       "text": [
        " http://www.bbc.co.uk/hausa/multimedia/2014/09/140902_hausapromo.shtml?ocid=socialflow_twitter\n",
        "\tNO DOCUMENT BODY"
       ]
      },
      {
       "output_type": "stream",
       "stream": "stdout",
       "text": [
        " http://www.bbc.co.uk/hausa/multimedia/2014/09/140902_hausapromo\n",
        "2075"
       ]
      },
      {
       "output_type": "stream",
       "stream": "stdout",
       "text": [
        " http://t.co/Eb5U754a3j\n",
        "\tNO DOCUMENT BODY"
       ]
      },
      {
       "output_type": "stream",
       "stream": "stdout",
       "text": [
        " http://www.bbc.co.uk/hausa/news/2014/09/140905_raayi_riga_agric_new.shtml?ocid=socialflow_twitter\n",
        "\tNO DOCUMENT BODY"
       ]
      },
      {
       "output_type": "stream",
       "stream": "stdout",
       "text": [
        " http://www.bbc.co.uk/hausa/multimedia/2014/09/140905_click050914.shtml?ocid=socialflow_twitter\n",
        "2100"
       ]
      },
      {
       "output_type": "stream",
       "stream": "stdout",
       "text": [
        " http://t.co/C1JoDEuQCb\n",
        "\tNO DOCUMENT BODY"
       ]
      },
      {
       "output_type": "stream",
       "stream": "stdout",
       "text": [
        " http://www.bbc.co.uk/hausa/multimedia/2014/09/140904_alshabab_explainer_60secs.shtml?ocid=socialflow_twitter\n",
        "\tNO DOCUMENT BODY"
       ]
      },
      {
       "output_type": "stream",
       "stream": "stdout",
       "text": [
        " http://www.bbc.co.uk/hausa/multimedia/2014/09/140904_ebola_short.shtml?ocid=socialflow_twitter\n",
        "\tNO DOCUMENT BODY"
       ]
      },
      {
       "output_type": "stream",
       "stream": "stdout",
       "text": [
        " http://www.bbc.co.uk/hausa/multimedia/2014/09/140902_corruption_poverty_report.shtml?ocid=socialflow_twitter\n",
        "\tNO DOCUMENT BODY"
       ]
      },
      {
       "output_type": "stream",
       "stream": "stdout",
       "text": [
        " http://www.bbc.co.uk/hausa/multimedia/2014/09/140902_china_wedding_pictures.shtml?ocid=socialflow_twitter\n",
        "2125"
       ]
      },
      {
       "output_type": "stream",
       "stream": "stdout",
       "text": [
        " http://t.co/IiMPhqXzV5\n",
        "\tNO DOCUMENT BODY"
       ]
      },
      {
       "output_type": "stream",
       "stream": "stdout",
       "text": [
        " http://www.bbc.co.uk/hausa/multimedia/2014/09/140902_ebola_liberia_escapee.shtml?ocid=socialflow_twitter\n",
        "\tNO DOCUMENT BODY"
       ]
      },
      {
       "output_type": "stream",
       "stream": "stdout",
       "text": [
        " http://www.bbc.co.uk/hausa/multimedia/2014/09/140902_meat_eating_package.shtml?ocid=socialflow_twitter\n",
        "2150 http://t.co/C00act7EB7\n",
        "\tNO DOCUMENT BODY"
       ]
      },
      {
       "output_type": "stream",
       "stream": "stdout",
       "text": [
        " http://www.bbc.co.uk/hausa/multimedia/2014/09/140901_ebola_westafrika.shtml?ocid=socialflow_twitter\n",
        "\tNO DOCUMENT BODY"
       ]
      },
      {
       "output_type": "stream",
       "stream": "stdout",
       "text": [
        " http://www.bbc.co.uk/hausa/news/2014/09/140901_india_scarvengers_inpictures.shtml?ocid=socialflow_twitter\n",
        "\tNO DOCUMENT BODY"
       ]
      },
      {
       "output_type": "stream",
       "stream": "stdout",
       "text": [
        " http://www.bbc.co.uk/hausa/multimedia/2014/09/140901_animation_dakar_short.shtml?ocid=socialflow_twitter\n",
        "2175"
       ]
      },
      {
       "output_type": "stream",
       "stream": "stdout",
       "text": [
        " http://t.co/gZwCp5ZAN9\n",
        "2200"
       ]
      },
      {
       "output_type": "stream",
       "stream": "stdout",
       "text": [
        " http://t.co/mcmXm9OlfB\n",
        "\tNO DOCUMENT BODY"
       ]
      },
      {
       "output_type": "stream",
       "stream": "stdout",
       "text": [
        " http://www.bbc.co.uk/hausa/multimedia/2014/08/140829_raayi_riga.shtml?ocid=socialflow_twitter\n",
        "\tNO DOCUMENT BODY"
       ]
      },
      {
       "output_type": "stream",
       "stream": "stdout",
       "text": [
        " http://www.bbc.co.uk/hausa/multimedia/2014/08/140829_click290814.shtml?ocid=socialflow_twitter\n",
        "2225"
       ]
      },
      {
       "output_type": "stream",
       "stream": "stdout",
       "text": [
        " http://t.co/qt6O6Fysrm\n",
        "\tNO DOCUMENT BODY"
       ]
      },
      {
       "output_type": "stream",
       "stream": "stdout",
       "text": [
        " http://www.bbc.co.uk/hausa/multimedia/2014/08/140828_ukraine_check_point.shtml?ocid=socialflow_twitter\n",
        "2250"
       ]
      },
      {
       "output_type": "stream",
       "stream": "stdout",
       "text": [
        " http://t.co/Gpg7L312Wc\n",
        "2275"
       ]
      },
      {
       "output_type": "stream",
       "stream": "stdout",
       "text": [
        " http://t.co/eodR02nk8u\n",
        "2300"
       ]
      },
      {
       "output_type": "stream",
       "stream": "stdout",
       "text": [
        " http://t.co/z8ePLyJvoL\n",
        "2325"
       ]
      },
      {
       "output_type": "stream",
       "stream": "stdout",
       "text": [
        " http://t.co/SKZMVOrA2S\n",
        "\tNO DOCUMENT BODY"
       ]
      },
      {
       "output_type": "stream",
       "stream": "stdout",
       "text": [
        " http://www.bbc.co.uk/hausa/news/2014/08/140822_raayi_boko_haram.shtml?ocid=socialflow_twitter\n",
        "\tNO DOCUMENT BODY"
       ]
      },
      {
       "output_type": "stream",
       "stream": "stdout",
       "text": [
        " http://www.bbc.co.uk/hausa/multimedia/2014/08/140822_click_220814.shtml?ocid=socialflow_twitter\n",
        "2350"
       ]
      },
      {
       "output_type": "stream",
       "stream": "stdout",
       "text": [
        " http://t.co/Met1PHbioN\n",
        "\tNO DOCUMENT BODY"
       ]
      },
      {
       "output_type": "stream",
       "stream": "stdout",
       "text": [
        " http://www.bbc.co.uk/hausa/multimedia/2014/08/140821_darfurrefugees_now_before.shtml?ocid=socialflow_twitter\n",
        "2375 http://t.co/YYDNGLdgfw\n",
        "2400"
       ]
      },
      {
       "output_type": "stream",
       "stream": "stdout",
       "text": [
        " http://t.co/z8CuYvbhff\n",
        "\tNO DOCUMENT BODY"
       ]
      },
      {
       "output_type": "stream",
       "stream": "stdout",
       "text": [
        " http://www.bbc.co.uk/hausa/multimedia/2014/08/140818_elephants_africa.shtml?ocid=socialflow_twitter\n",
        "2425"
       ]
      },
      {
       "output_type": "stream",
       "stream": "stdout",
       "text": [
        " http://t.co/6UkDo2HkxN\n",
        "\tNO DOCUMENT BODY"
       ]
      },
      {
       "output_type": "stream",
       "stream": "stdout",
       "text": [
        " http://www.bbc.co.uk/hausa/multimedia/2014/08/140818_ebola_new_liberia.shtml?ocid=socialflow_twitter\n",
        "\tNO DOCUMENT BODY"
       ]
      },
      {
       "output_type": "stream",
       "stream": "stdout",
       "text": [
        " http://www.bbc.co.uk/hausa/multimedia/2014/08/140818_ebola_liberia.shtml?ocid=socialflow_twitter\n",
        "2450"
       ]
      },
      {
       "output_type": "stream",
       "stream": "stdout",
       "text": [
        " http://t.co/hbhc38UUUG\n",
        "\tNO DOCUMENT BODY"
       ]
      },
      {
       "output_type": "stream",
       "stream": "stdout",
       "text": [
        " http://www.bbc.co.uk/hausa/multimedia/2014/08/140811_raayi_riga.shtml?ocid=socialflow_twitter\n",
        "\tNO DOCUMENT BODY"
       ]
      },
      {
       "output_type": "stream",
       "stream": "stdout",
       "text": [
        " http://www.bbc.co.uk/hausa/news/2014/08/140815_click_video.shtml?ocid=socialflow_twitter\n",
        "\tNO DOCUMENT BODY"
       ]
      },
      {
       "output_type": "stream",
       "stream": "stdout",
       "text": [
        " http://www.bbc.co.uk/hausa/multimedia/2014/08/140815_yazidis_pic_gallery.shtml?ocid=socialflow_twitter\n",
        "2475"
       ]
      },
      {
       "output_type": "stream",
       "stream": "stdout",
       "text": [
        " http://t.co/5TnHIowrAd\n",
        "2500"
       ]
      },
      {
       "output_type": "stream",
       "stream": "stdout",
       "text": [
        " http://t.co/uZ7TodizBv\n",
        "\tNO DOCUMENT BODY"
       ]
      },
      {
       "output_type": "stream",
       "stream": "stdout",
       "text": [
        " http://www.bbc.co.uk/hausa/multimedia/2014/08/140813_ebola_canada_video.shtml?ocid=socialflow_twitter\n",
        "\tNO DOCUMENT BODY"
       ]
      },
      {
       "output_type": "stream",
       "stream": "stdout",
       "text": [
        " http://www.bbc.co.uk/hausa/indepth/ebola_drug.shtml?ocid=socialflow_twitter\n",
        "\tNO DOCUMENT BODY"
       ]
      },
      {
       "output_type": "stream",
       "stream": "stdout",
       "text": [
        " http://www.bbc.co.uk/hausa/multimedia/2014/08/140813_ebola_explainer_video.shtml?ocid=socialflow_twitter\n",
        "\tNO DOCUMENT BODY"
       ]
      },
      {
       "output_type": "stream",
       "stream": "stdout",
       "text": [
        " http://www.bbc.co.uk/hausa/multimedia/2014/08/140811_un_youth_day.shtml?ocid=socialflow_twitter\n",
        "2525 http://t.co/0uhqzyCuL7\n"
       ]
      },
      {
       "ename": "KeyboardInterrupt",
       "evalue": "",
       "output_type": "pyerr",
       "traceback": [
        "\u001b[0;31m---------------------------------------------------------------------------\u001b[0m\n\u001b[0;31mKeyboardInterrupt\u001b[0m                         Traceback (most recent call last)",
        "\u001b[0;32m<ipython-input-42-f7af339c8446>\u001b[0m in \u001b[0;36m<module>\u001b[0;34m()\u001b[0m\n\u001b[1;32m      4\u001b[0m         \u001b[0;32mif\u001b[0m \u001b[0mn\u001b[0m\u001b[0;34m%\u001b[0m\u001b[0;36m25\u001b[0m\u001b[0;34m==\u001b[0m\u001b[0;36m0\u001b[0m\u001b[0;34m:\u001b[0m\u001b[0;32mprint\u001b[0m \u001b[0mn\u001b[0m\u001b[0;34m,\u001b[0m\u001b[0murl\u001b[0m\u001b[0;34m\u001b[0m\u001b[0m\n\u001b[1;32m      5\u001b[0m         \u001b[0mt\u001b[0m\u001b[0;34m=\u001b[0m\u001b[0murllib2\u001b[0m\u001b[0;34m.\u001b[0m\u001b[0murlopen\u001b[0m\u001b[0;34m(\u001b[0m\u001b[0murl\u001b[0m\u001b[0;34m)\u001b[0m\u001b[0;34m\u001b[0m\u001b[0m\n\u001b[0;32m----> 6\u001b[0;31m         \u001b[0mgetText\u001b[0m\u001b[0;34m(\u001b[0m\u001b[0mt\u001b[0m\u001b[0;34m,\u001b[0m\u001b[0moutFile\u001b[0m\u001b[0;34m,\u001b[0m\u001b[0msleep\u001b[0m\u001b[0;34m=\u001b[0m\u001b[0mFalse\u001b[0m\u001b[0;34m)\u001b[0m\u001b[0;34m\u001b[0m\u001b[0m\n\u001b[0m",
        "\u001b[0;32m<ipython-input-40-f8873ebf1a6e>\u001b[0m in \u001b[0;36mgetText\u001b[0;34m(t, outFile, sleep, verbose)\u001b[0m\n\u001b[1;32m      4\u001b[0m     \u001b[0;32mand\u001b[0m \u001b[0mverbose\u001b[0m \u001b[0mlogging\u001b[0m\u001b[0;34m\u001b[0m\u001b[0m\n\u001b[1;32m      5\u001b[0m     '''\n\u001b[0;32m----> 6\u001b[0;31m     \u001b[0mtt\u001b[0m\u001b[0;34m=\u001b[0m\u001b[0mBeautifulSoup\u001b[0m\u001b[0;34m(\u001b[0m\u001b[0mt\u001b[0m\u001b[0;34m.\u001b[0m\u001b[0mread\u001b[0m\u001b[0;34m(\u001b[0m\u001b[0;34m)\u001b[0m\u001b[0;34m)\u001b[0m\u001b[0;34m\u001b[0m\u001b[0m\n\u001b[0m\u001b[1;32m      7\u001b[0m \u001b[0;34m\u001b[0m\u001b[0m\n\u001b[1;32m      8\u001b[0m     \u001b[0melement\u001b[0m\u001b[0;34m=\u001b[0m\u001b[0mtt\u001b[0m\u001b[0;34m.\u001b[0m\u001b[0mfind\u001b[0m\u001b[0;34m(\u001b[0m\u001b[0mclass_\u001b[0m\u001b[0;34m=\u001b[0m\u001b[0;34m'story-body__inner'\u001b[0m\u001b[0;34m)\u001b[0m\u001b[0;34m\u001b[0m\u001b[0m\n",
        "\u001b[0;32m/usr/local/Cellar/python/2.7.5/Frameworks/Python.framework/Versions/2.7/lib/python2.7/socket.pyc\u001b[0m in \u001b[0;36mread\u001b[0;34m(self, size)\u001b[0m\n\u001b[1;32m    349\u001b[0m             \u001b[0;32mwhile\u001b[0m \u001b[0mTrue\u001b[0m\u001b[0;34m:\u001b[0m\u001b[0;34m\u001b[0m\u001b[0m\n\u001b[1;32m    350\u001b[0m                 \u001b[0;32mtry\u001b[0m\u001b[0;34m:\u001b[0m\u001b[0;34m\u001b[0m\u001b[0m\n\u001b[0;32m--> 351\u001b[0;31m                     \u001b[0mdata\u001b[0m \u001b[0;34m=\u001b[0m \u001b[0mself\u001b[0m\u001b[0;34m.\u001b[0m\u001b[0m_sock\u001b[0m\u001b[0;34m.\u001b[0m\u001b[0mrecv\u001b[0m\u001b[0;34m(\u001b[0m\u001b[0mrbufsize\u001b[0m\u001b[0;34m)\u001b[0m\u001b[0;34m\u001b[0m\u001b[0m\n\u001b[0m\u001b[1;32m    352\u001b[0m                 \u001b[0;32mexcept\u001b[0m \u001b[0merror\u001b[0m\u001b[0;34m,\u001b[0m \u001b[0me\u001b[0m\u001b[0;34m:\u001b[0m\u001b[0;34m\u001b[0m\u001b[0m\n\u001b[1;32m    353\u001b[0m                     \u001b[0;32mif\u001b[0m \u001b[0me\u001b[0m\u001b[0;34m.\u001b[0m\u001b[0margs\u001b[0m\u001b[0;34m[\u001b[0m\u001b[0;36m0\u001b[0m\u001b[0;34m]\u001b[0m \u001b[0;34m==\u001b[0m \u001b[0mEINTR\u001b[0m\u001b[0;34m:\u001b[0m\u001b[0;34m\u001b[0m\u001b[0m\n",
        "\u001b[0;32m/usr/local/Cellar/python/2.7.5/Frameworks/Python.framework/Versions/2.7/lib/python2.7/httplib.pyc\u001b[0m in \u001b[0;36mread\u001b[0;34m(self, amt)\u001b[0m\n\u001b[1;32m    565\u001b[0m         \u001b[0;31m# connection, and the user is reading more bytes than will be provided\u001b[0m\u001b[0;34m\u001b[0m\u001b[0;34m\u001b[0m\u001b[0m\n\u001b[1;32m    566\u001b[0m         \u001b[0;31m# (for example, reading in 1k chunks)\u001b[0m\u001b[0;34m\u001b[0m\u001b[0;34m\u001b[0m\u001b[0m\n\u001b[0;32m--> 567\u001b[0;31m         \u001b[0ms\u001b[0m \u001b[0;34m=\u001b[0m \u001b[0mself\u001b[0m\u001b[0;34m.\u001b[0m\u001b[0mfp\u001b[0m\u001b[0;34m.\u001b[0m\u001b[0mread\u001b[0m\u001b[0;34m(\u001b[0m\u001b[0mamt\u001b[0m\u001b[0;34m)\u001b[0m\u001b[0;34m\u001b[0m\u001b[0m\n\u001b[0m\u001b[1;32m    568\u001b[0m         \u001b[0;32mif\u001b[0m \u001b[0;32mnot\u001b[0m \u001b[0ms\u001b[0m\u001b[0;34m:\u001b[0m\u001b[0;34m\u001b[0m\u001b[0m\n\u001b[1;32m    569\u001b[0m             \u001b[0;31m# Ideally, we would raise IncompleteRead if the content-length\u001b[0m\u001b[0;34m\u001b[0m\u001b[0;34m\u001b[0m\u001b[0m\n",
        "\u001b[0;32m/usr/local/Cellar/python/2.7.5/Frameworks/Python.framework/Versions/2.7/lib/python2.7/socket.pyc\u001b[0m in \u001b[0;36mread\u001b[0;34m(self, size)\u001b[0m\n\u001b[1;32m    378\u001b[0m                 \u001b[0;31m# fragmentation issues on many platforms.\u001b[0m\u001b[0;34m\u001b[0m\u001b[0;34m\u001b[0m\u001b[0m\n\u001b[1;32m    379\u001b[0m                 \u001b[0;32mtry\u001b[0m\u001b[0;34m:\u001b[0m\u001b[0;34m\u001b[0m\u001b[0m\n\u001b[0;32m--> 380\u001b[0;31m                     \u001b[0mdata\u001b[0m \u001b[0;34m=\u001b[0m \u001b[0mself\u001b[0m\u001b[0;34m.\u001b[0m\u001b[0m_sock\u001b[0m\u001b[0;34m.\u001b[0m\u001b[0mrecv\u001b[0m\u001b[0;34m(\u001b[0m\u001b[0mleft\u001b[0m\u001b[0;34m)\u001b[0m\u001b[0;34m\u001b[0m\u001b[0m\n\u001b[0m\u001b[1;32m    381\u001b[0m                 \u001b[0;32mexcept\u001b[0m \u001b[0merror\u001b[0m\u001b[0;34m,\u001b[0m \u001b[0me\u001b[0m\u001b[0;34m:\u001b[0m\u001b[0;34m\u001b[0m\u001b[0m\n\u001b[1;32m    382\u001b[0m                     \u001b[0;32mif\u001b[0m \u001b[0me\u001b[0m\u001b[0;34m.\u001b[0m\u001b[0margs\u001b[0m\u001b[0;34m[\u001b[0m\u001b[0;36m0\u001b[0m\u001b[0;34m]\u001b[0m \u001b[0;34m==\u001b[0m \u001b[0mEINTR\u001b[0m\u001b[0;34m:\u001b[0m\u001b[0;34m\u001b[0m\u001b[0m\n",
        "\u001b[0;31mKeyboardInterrupt\u001b[0m: "
       ]
      }
     ],
     "prompt_number": 42
    },
    {
     "cell_type": "markdown",
     "metadata": {},
     "source": [
      "We have one story per line: 2328 stories in total and 345,175 words"
     ]
    },
    {
     "cell_type": "code",
     "collapsed": false,
     "input": [
      "!wc out_bbc_hausa.txt"
     ],
     "language": "python",
     "metadata": {},
     "outputs": [
      {
       "output_type": "stream",
       "stream": "stdout",
       "text": [
        "    2328  345175 1898005 out_bbc_hausa.txt\r\n"
       ]
      }
     ],
     "prompt_number": 43
    },
    {
     "cell_type": "markdown",
     "metadata": {},
     "source": [
      "Take a look at the first couple of stories"
     ]
    },
    {
     "cell_type": "code",
     "collapsed": false,
     "input": [
      "!head -n 2 out_bbc_hausa.txt"
     ],
     "language": "python",
     "metadata": {},
     "outputs": [
      {
       "output_type": "stream",
       "stream": "stdout",
       "text": [
        "dakarun da ke tsaron gabar tekun italiya sun ce a yanzu an kubutar da daukacin fasinjojin da ke cikin wani jirgin ruwa da ke cin wuta a tekun adriatic  fira ministan italiya, matteo renzi ya ce tabas an tserad da fasinjojin su dari hudu da bakwai  mutane biyar ne dai ka tabbatar da sun mutu sakamakon lamarin  jirage masu saukar angulu ne suka yi ta jigilar daruruwan mutane zuwa tudun mun tsira yayin da jami'an kashe gobara ke ta kokarin shawo kan gobarar  \r\n",
        "iyayen daya daga cikin ma'aikatan al-jazeera uku da aka kama a masar sun ce sun yi ammanar za a sako su nan bada jimawa ba  a hirarsa da bbc shekara guda bayan kama 'yan jaridar, mahaifin peter greste ya ce babu tantama za soke hukuncin kotun da aka yanke musu  an yanke wa mr greste da mohammed fahmy da kuma baher mohammed hukuncin daurin shekaru bakwai zuwa 10 a watan yunin bana bisa zargin yada labaran karya da taimakawa kungiyar 'yan ta'adda  a cikin wannan makon, wata kotu a masar za ta yanke hukuncin ko suna da damar daukaka kara  'alaka da muslim brotherhood' 'yan jaridar sun karyata zargin da ake musu na hudda da haramtaciyyar kungiyar muslim brotherhood bayan juyin mulkin da sojoji suka yi wa shugaba mohammed morsi a bara  a cewarsu sun yi aikinsu ne kawai ba tare da son zuciya ba  abokan mr greste, wanda dan kasar australia ne kuma tsohon ma'aikacin bbc, da mr fahmy wanda dan canada da kuma mr mohammed dan kasar masar sun yi bikin tunawa da tsare abokan aikinsu a ranar litinin  hotuna a dakunan watsa labarai na al-jazeera sun bukaci masar ta sako ma'aikatan inda a turance aka rubuta  free them now   sannan 'yan jarida a duniya sun ci gaba da amfani da  #freeajstaff  da  #journalismisnotacrime  a shafukan twitter domin matsin lamba ga hukumomi a masar su sako 'yan jaridar  \r\n"
       ]
      }
     ],
     "prompt_number": 44
    },
    {
     "cell_type": "markdown",
     "metadata": {},
     "source": [
      "#Next Steps and New Directions\n",
      "1. **Train [langid](https://github.com/saffsd/langid.py) on this content** - Train a language classifier on the distribution of 3 character sequences and test performance (forthcoming in another notebook)\n",
      "2. **More content** - Grab more stories from the BBC Hausa page, maybe using a crawler.\n",
      "3. **More sources** - Grab content from other Hausa sources\n",
      "4. **Baseline Comparison** - How does the clean language from official news compare to how people use the language in everday communications?"
     ]
    },
    {
     "cell_type": "markdown",
     "metadata": {},
     "source": [
      "If you liked this, then please [let me know](https://twitter.com/arutherfordium)! If you also work on under-represented languages then let me know what you are doing; at [United Nations Global Pulse](unglobalpulse.org) we often work on problems like this and we frequently need help from native speakers. Thanks for reading!"
     ]
    }
   ],
   "metadata": {}
  }
 ]
}