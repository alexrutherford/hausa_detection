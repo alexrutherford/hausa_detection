{
 "metadata": {
  "name": "",
  "signature": "sha256:9367cfc448732131ce5aa8d581cc877addd7111515a95b1c137128e56fbc5e9e"
 },
 "nbformat": 3,
 "nbformat_minor": 0,
 "worksheets": [
  {
   "cells": [
    {
     "cell_type": "code",
     "collapsed": false,
     "input": [
      "import re,sys,os,re,csv,time\n",
      "import urlparse\n",
      "from bs4 import BeautifulSoup\n",
      "import urllib,urllib2\n",
      "import hit_tw_api_harvest"
     ],
     "language": "python",
     "metadata": {},
     "outputs": [],
     "prompt_number": 1
    },
    {
     "cell_type": "heading",
     "level": 5,
     "metadata": {},
     "source": [
      "Load up the Twitter API and grab tweets by BBC Hausa account"
     ]
    },
    {
     "cell_type": "code",
     "collapsed": false,
     "input": [
      "tw=hit_tw_api_harvest.oauth_login()\n",
      "res=hit_tw_api_harvest.harvest_user_timeline(tw,screen_name='bbchausa',max_results=100000)"
     ],
     "language": "python",
     "metadata": {},
     "outputs": [
      {
       "output_type": "stream",
       "stream": "stderr",
       "text": [
        "Fetched 200 tweets\n",
        "Fetched 200 tweets"
       ]
      },
      {
       "output_type": "stream",
       "stream": "stderr",
       "text": [
        "\n",
        "Fetched 200 tweets"
       ]
      },
      {
       "output_type": "stream",
       "stream": "stderr",
       "text": [
        "\n",
        "Fetched 200 tweets"
       ]
      },
      {
       "output_type": "stream",
       "stream": "stderr",
       "text": [
        "\n",
        "Fetched 200 tweets"
       ]
      },
      {
       "output_type": "stream",
       "stream": "stderr",
       "text": [
        "\n",
        "Fetched 200 tweets"
       ]
      },
      {
       "output_type": "stream",
       "stream": "stderr",
       "text": [
        "\n",
        "Fetched 200 tweets"
       ]
      },
      {
       "output_type": "stream",
       "stream": "stderr",
       "text": [
        "\n",
        "Fetched 200 tweets"
       ]
      },
      {
       "output_type": "stream",
       "stream": "stderr",
       "text": [
        "\n",
        "Fetched 200 tweets"
       ]
      },
      {
       "output_type": "stream",
       "stream": "stderr",
       "text": [
        "\n",
        "Fetched 200 tweets"
       ]
      },
      {
       "output_type": "stream",
       "stream": "stderr",
       "text": [
        "\n",
        "Fetched 200 tweets"
       ]
      },
      {
       "output_type": "stream",
       "stream": "stderr",
       "text": [
        "\n",
        "Fetched 200 tweets"
       ]
      },
      {
       "output_type": "stream",
       "stream": "stderr",
       "text": [
        "\n",
        "Fetched 200 tweets"
       ]
      },
      {
       "output_type": "stream",
       "stream": "stderr",
       "text": [
        "\n",
        "Fetched 200 tweets"
       ]
      },
      {
       "output_type": "stream",
       "stream": "stderr",
       "text": [
        "\n",
        "Fetched 200 tweets"
       ]
      },
      {
       "output_type": "stream",
       "stream": "stderr",
       "text": [
        "\n",
        "Fetched 200 tweets"
       ]
      },
      {
       "output_type": "stream",
       "stream": "stderr",
       "text": [
        "\n",
        "Done fetching tweets\n"
       ]
      }
     ],
     "prompt_number": 3
    },
    {
     "cell_type": "heading",
     "level": 5,
     "metadata": {},
     "source": [
      "Grab the URLs from each tweet (if they are there)"
     ]
    },
    {
     "cell_type": "code",
     "collapsed": false,
     "input": [
      "rootUrls=[]\n",
      "for r in res:\n",
      "    for l in r['entities']['urls']:\n",
      "#        print l['url']\n",
      "        rootUrls.append(l['url'])"
     ],
     "language": "python",
     "metadata": {},
     "outputs": [],
     "prompt_number": 4
    },
    {
     "cell_type": "markdown",
     "metadata": {},
     "source": [
      "**Grab the text from the p elements of the story body**"
     ]
    },
    {
     "cell_type": "code",
     "collapsed": false,
     "input": [
      "def getText(t,outFile,s=True,v=False):\n",
      "    '''Pass in raw text and file to write to\n",
      "    Optional Boolean flags for sleeping between hits \n",
      "    and verbose logging\n",
      "    '''\n",
      "    global nLevel,nDocs\n",
      "    tt=BeautifulSoup(t.read())\n",
      "    \n",
      "    element=tt.find(class_='story-body__inner')\n",
      "    \n",
      "    if v:print 'GETTING',t.url\n",
      "    if s:time.sleep(1)\n",
      "    \n",
      "    if element:\n",
      "        for p,pp in enumerate([d for d in element.find_all('p') if d]):\n",
      "            outFile.write(pp.get_text().encode('utf-8')+' ')\n",
      "#            print pp\n",
      "        outFile.write('\\n') # One line per story\n",
      "    else:\n",
      "        print '\\tNO DOCUMENT BODY',t.url"
     ],
     "language": "python",
     "metadata": {},
     "outputs": [],
     "prompt_number": 7
    },
    {
     "cell_type": "code",
     "collapsed": false,
     "input": [
      "with open('out_bbc_hausa.txt','w') as outFile:\n",
      "\n",
      "    for n,url in enumerate(rootUrls):\n",
      "        if n%25==0:print n,url\n",
      "        t=urllib2.urlopen(url)\n",
      "        getText(t,outFile)"
     ],
     "language": "python",
     "metadata": {},
     "outputs": [
      {
       "output_type": "stream",
       "stream": "stdout",
       "text": [
        "0 http://t.co/A58oddcMZm\n",
        "\tNO DCC"
       ]
      },
      {
       "output_type": "stream",
       "stream": "stdout",
       "text": [
        " http://www.bbc.co.uk/hausa/news/2014/12/141219_raayi-riga-budget?ocid=socialflow_twitter\n",
        "\tNO DCC"
       ]
      },
      {
       "output_type": "stream",
       "stream": "stdout",
       "text": [
        " http://www.bbc.co.uk/hausa/multimedia/2014/12/141219_click191214?ocid=socialflow_twitter\n",
        "25"
       ]
      },
      {
       "output_type": "stream",
       "stream": "stdout",
       "text": [
        " http://t.co/8TL3nbLgqE\n",
        "\tNO DCC"
       ]
      },
      {
       "output_type": "stream",
       "stream": "stdout",
       "text": [
        " http://www.bbc.co.uk/hausa/multimedia/2014/12/141218_jakarta_motocycle?ocid=socialflow_twitter\n",
        "\tNO DCC"
       ]
      },
      {
       "output_type": "stream",
       "stream": "stdout",
       "text": [
        " http://www.bbc.co.uk/hausa/multimedia/2014/12/141218_pakistan_attack_pashewar?ocid=socialflow_twitter\n",
        "\tNO DCC"
       ]
      },
      {
       "output_type": "stream",
       "stream": "stdout",
       "text": [
        " http://www.bbc.co.uk/hausa/multimedia/2014/09/000000_ondemandbulletin\n",
        "50"
       ]
      },
      {
       "output_type": "stream",
       "stream": "stdout",
       "text": [
        " http://t.co/Sw4ZCrPW3F\n",
        "\tNO DCC"
       ]
      },
      {
       "output_type": "stream",
       "stream": "stdout",
       "text": [
        " https://twitter.com/BBC_HaveYourSay/timelines/544537298185232385\n",
        "\tNO DCC"
       ]
      },
      {
       "output_type": "stream",
       "stream": "stdout",
       "text": [
        " http://www.bbc.co.uk/news/30213792\n",
        "\tNO DCC"
       ]
      },
      {
       "output_type": "stream",
       "stream": "stdout",
       "text": [
        " http://www.bbc.co.uk/hausa/multimedia/2014/12/141211_tanzania_albino?ocid=socialflow_twitter\n",
        "\tNO DCC"
       ]
      },
      {
       "output_type": "stream",
       "stream": "stdout",
       "text": [
        " http://www.bbc.co.uk/hausa/multimedia/2014/12/141211_hongkong_slums?ocid=socialflow_twitter\n",
        "75 http://t.co/rHdRBeqm5b\n",
        "\tNO DCC"
       ]
      },
      {
       "output_type": "stream",
       "stream": "stdout",
       "text": [
        " http://www.bbc.co.uk/hausa/multimedia/2014/12/141211_malala_nobel_award?ocid=socialflow_twitter\n",
        "\tNO DCC"
       ]
      },
      {
       "output_type": "stream",
       "stream": "stdout",
       "text": [
        " http://www.bbc.co.uk/hausa/multimedia/2014/12/141215_raayi_taadanci?ocid=socialflow_twitter\n",
        "100"
       ]
      },
      {
       "output_type": "stream",
       "stream": "stdout",
       "text": [
        " http://t.co/Q7Wxl0LfQR\n",
        "125"
       ]
      },
      {
       "output_type": "stream",
       "stream": "stdout",
       "text": [
        " http://t.co/dRiWpphwZ9\n",
        "\tNO DCC"
       ]
      },
      {
       "output_type": "stream",
       "stream": "stdout",
       "text": [
        " http://www.bbc.co.uk/hausa/multimedia/2014/09/000000_ondemandbulletin\n",
        "150"
       ]
      },
      {
       "output_type": "stream",
       "stream": "stdout",
       "text": [
        " http://t.co/tOJdGOsErj\n",
        "175"
       ]
      },
      {
       "output_type": "stream",
       "stream": "stdout",
       "text": [
        " http://t.co/o6CfAt2eyz\n",
        "\tNO DCC"
       ]
      },
      {
       "output_type": "stream",
       "stream": "stdout",
       "text": [
        " http://www.bbc.co.uk/academy/hausa/article/art20141209141434867\n",
        "\tNO DCC"
       ]
      },
      {
       "output_type": "stream",
       "stream": "stdout",
       "text": [
        " http://www.bbc.co.uk/hausa/multimedia/2014/12/141210_joburg_city?ocid=socialflow_twitter\n",
        "\tNO DCC"
       ]
      },
      {
       "output_type": "stream",
       "stream": "stdout",
       "text": [
        " http://www.bbc.co.uk/hausa/multimedia/2014/12/141210_malaria_successes?ocid=socialflow_twitter\n",
        "200"
       ]
      },
      {
       "output_type": "stream",
       "stream": "stdout",
       "text": [
        " http://t.co/eGvcNb67Fu\n",
        "\tNO DCC"
       ]
      },
      {
       "output_type": "stream",
       "stream": "stdout",
       "text": [
        " http://www.bbc.co.uk/hausa/multimedia/2014/12/141209_bokoharam_cameroon?ocid=socialflow_twitter\n",
        "225"
       ]
      },
      {
       "output_type": "stream",
       "stream": "stdout",
       "text": [
        " http://t.co/fqSRVM9sYN\n",
        "\tNO DCC"
       ]
      },
      {
       "output_type": "stream",
       "stream": "stdout",
       "text": [
        " http://www.bbc.co.uk/hausa/multimedia/2014/09/000000_ondemandbulletin\n",
        "\tNO DCC"
       ]
      },
      {
       "output_type": "stream",
       "stream": "stdout",
       "text": [
        " http://www.bbc.co.uk/hausa/multimedia/2014/12/141208_mubi_gallery_embed?ocid=socialflow_twitter\n",
        "\tNO DCC"
       ]
      },
      {
       "output_type": "stream",
       "stream": "stdout",
       "text": [
        " http://www.bbc.co.uk/hausa/multimedia/2014/12/141208_mandela_one_year?ocid=socialflow_twitter\n",
        "250"
       ]
      },
      {
       "output_type": "stream",
       "stream": "stdout",
       "text": [
        " http://t.co/PTows221nt\n",
        "\tNO DCC"
       ]
      },
      {
       "output_type": "stream",
       "stream": "stdout",
       "text": [
        " http://www.bbc.co.uk/hausa/multimedia/2014/12/141208_brain_ball_head?ocid=socialflow_twitter\n",
        "275"
       ]
      },
      {
       "output_type": "stream",
       "stream": "stdout",
       "text": [
        " http://t.co/lvXdw2UKRo\n",
        "\tNO DCC"
       ]
      },
      {
       "output_type": "stream",
       "stream": "stdout",
       "text": [
        " http://www.bbc.co.uk/hausa/news/2014/12/141205_raayi-riga-zaben-fidda-gwani?ocid=socialflow_twitter\n",
        "\tNO DCC"
       ]
      },
      {
       "output_type": "stream",
       "stream": "stdout",
       "text": [
        " http://www.bbc.co.uk/hausa/multimedia/2014/12/141205_click051214?ocid=socialflow_twitter\n",
        "\tNO DCC"
       ]
      },
      {
       "output_type": "stream",
       "stream": "stdout",
       "text": [
        " http://www.bbc.co.uk/hausa/multimedia/2014/12/141205_libya_is_?ocid=socialflow_twitter\n",
        "\tNO DCC"
       ]
      },
      {
       "output_type": "stream",
       "stream": "stdout",
       "text": [
        " http://www.bbc.co.uk/hausa/multimedia/2014/12/141205_battery_life_phone?ocid=socialflow_twitter\n",
        "\tNO DCC"
       ]
      },
      {
       "output_type": "stream",
       "stream": "stdout",
       "text": [
        " http://www.bbc.co.uk/hausa/multimedia/2014/09/000000_ondemandbulletin\n",
        "\tNO DCC"
       ]
      },
      {
       "output_type": "stream",
       "stream": "stdout",
       "text": [
        " http://www.bbc.co.uk/hausa/multimedia/2014/12/141204_hawking_human_ar?ocid=socialflow_twitter\n",
        "300"
       ]
      },
      {
       "output_type": "stream",
       "stream": "stdout",
       "text": [
        " http://t.co/lUKwQD9b6n\n",
        "\tNO DCC"
       ]
      },
      {
       "output_type": "stream",
       "stream": "stdout",
       "text": [
        " http://www.bbc.co.uk/hausa/multimedia/2014/12/141204_is_kerry_force?ocid=socialflow_twitter\n",
        "\tNO DCC"
       ]
      },
      {
       "output_type": "stream",
       "stream": "stdout",
       "text": [
        " http://www.bbc.co.uk/hausa/multimedia/2014/12/141204_bokoharam_vigilantes?ocid=socialflow_twitter\n",
        "\tNO DCC"
       ]
      },
      {
       "output_type": "stream",
       "stream": "stdout",
       "text": [
        " https://audioboom.com/boos/2704121-yan-sintiri-sun-ce-yan-chadi-na-cikin-boko-haram?ocid=socialflow_twitter\n",
        "325"
       ]
      },
      {
       "output_type": "stream",
       "stream": "stdout",
       "text": [
        " http://t.co/UvXP6LL1F2\n",
        "\tNO DCC"
       ]
      },
      {
       "output_type": "stream",
       "stream": "stdout",
       "text": [
        " http://www.bbc.co.uk/hausa/multimedia/2014/12/141203_kenya_attack_mandera?ocid=socialflow_twitter\n",
        "\tNO DCC"
       ]
      },
      {
       "output_type": "stream",
       "stream": "stdout",
       "text": [
        " http://www.bbc.co.uk/hausa/multimedia/2014/12/141203_niger_president_terrorism?ocid=socialflow_twitter\n",
        "\tNO DCC"
       ]
      },
      {
       "output_type": "stream",
       "stream": "stdout",
       "text": [
        " http://www.bbc.co.uk/hausa/multimedia/2014/12/141203_bhopal_children_gallerr?ocid=socialflow_twitter\n",
        "350"
       ]
      },
      {
       "output_type": "stream",
       "stream": "stdout",
       "text": [
        " http://t.co/6EK3muX86l\n",
        "\tNO DCC"
       ]
      },
      {
       "output_type": "stream",
       "stream": "stdout",
       "text": [
        " https://audioboom.com/boos/2698080-namadi-sambo-ya-ce-gwamnatin-nigeria-ba-ta-da-hannu-a-hare-haren-bokoharam\n",
        "\tNO DCC"
       ]
      },
      {
       "output_type": "stream",
       "stream": "stdout",
       "text": [
        " http://www.bbc.co.uk/hausa/multimedia/2014/12/141202_kano_victims?ocid=socialflow_twitter\n",
        "\tNO DCC"
       ]
      },
      {
       "output_type": "stream",
       "stream": "stdout",
       "text": [
        " http://www.bbc.co.uk/hausa/multimedia/2014/12/141201_click011214?ocid=socialflow_twitter\n",
        "\tNO DCC"
       ]
      },
      {
       "output_type": "stream",
       "stream": "stdout",
       "text": [
        " http://www.bbc.co.uk/hausa/multimedia/2014/12/141201_ebola_short?ocid=socialflow_twitter\n",
        "375"
       ]
      },
      {
       "output_type": "stream",
       "stream": "stdout",
       "text": [
        " http://t.co/HJ1Hbo3i1v\n",
        "\tNO DCC"
       ]
      },
      {
       "output_type": "stream",
       "stream": "stdout",
       "text": [
        " http://www.bbc.co.uk/hausa/news/2014/11/141129_raayi-riga-kano-attack?ocid=socialflow_twitter\n",
        "400"
       ]
      },
      {
       "output_type": "stream",
       "stream": "stdout",
       "text": [
        " http://t.co/GJvERe35tf\n",
        "\tNO DCC"
       ]
      },
      {
       "output_type": "stream",
       "stream": "stdout",
       "text": [
        " http://www.bbc.co.uk/academy/hausa/article/art20141007170038993\n",
        "\tNO DCC"
       ]
      },
      {
       "output_type": "stream",
       "stream": "stdout",
       "text": [
        " http://www.bbc.co.uk/hausa\n",
        "\tNO DCC"
       ]
      },
      {
       "output_type": "stream",
       "stream": "stdout",
       "text": [
        " http://www.bbc.co.uk/hausa/multimedia/2014/11/141128_opec_oil_pricing?ocid=socialflow_twitter\n",
        "\tNO DCC"
       ]
      },
      {
       "output_type": "stream",
       "stream": "stdout",
       "text": [
        " http://www.bbc.co.uk/hausa/multimedia/2014/11/141128_timbuktu_books?ocid=socialflow_twitter\n",
        "425"
       ]
      },
      {
       "output_type": "stream",
       "stream": "stdout",
       "text": [
        " http://t.co/5Rt0jhXgsk\n",
        "\tNO DCC"
       ]
      },
      {
       "output_type": "stream",
       "stream": "stdout",
       "text": [
        " http://www.bbc.co.uk/hausa/multimedia/2014/11/141127_ebola_trial_drugs?ocid=socialflow_twitter\n",
        "\tNO DCC"
       ]
      },
      {
       "output_type": "stream",
       "stream": "stdout",
       "text": [
        " http://www.bbc.co.uk/academy/hausa/article/art20141007170038993\n",
        "\tNO DCC"
       ]
      },
      {
       "output_type": "stream",
       "stream": "stdout",
       "text": [
        " http://www.bbc.co.uk/hausa/multimedia/2014/11/141127_uruguay_cattles_?ocid=socialflow_twitter\n",
        "450"
       ]
      },
      {
       "output_type": "stream",
       "stream": "stdout",
       "text": [
        " http://t.co/oVAuqAHsM7\n",
        "\tNO DCC"
       ]
      },
      {
       "output_type": "stream",
       "stream": "stdout",
       "text": [
        " https://audioboom.com/boos/2686974-wasu-yan-majalisar-dattawan-nigeria-na-shirin-tsige-shugaba-goodluck-jonathan?ocid=socialflow_twitter\n",
        "\tNO DCC"
       ]
      },
      {
       "output_type": "stream",
       "stream": "stdout",
       "text": [
        " http://www.bbc.co.uk/hausa/multimedia/2014/11/141126_messi_gallery_record?ocid=socialflow_twitter\n",
        "\tNO DCC"
       ]
      },
      {
       "output_type": "stream",
       "stream": "stdout",
       "text": [
        " http://www.bbc.co.uk/hausa/multimedia/2014/11/141126_amazon_lost_dog?ocid=socialflow_twitter\n",
        "\tNO DCC"
       ]
      },
      {
       "output_type": "stream",
       "stream": "stdout",
       "text": [
        " http://www.bbc.co.uk/hausa/multimedia/2014/11/141126_ferguson_riots?ocid=socialflow_twitter\n",
        "475"
       ]
      },
      {
       "output_type": "stream",
       "stream": "stdout",
       "text": [
        " http://t.co/iaYYLGv3la\n",
        "\tNO DCC"
       ]
      },
      {
       "output_type": "stream",
       "stream": "stdout",
       "text": [
        " http://www.bbc.co.uk/hausa/multimedia/2014/09/000000_ondemandbulletin\n",
        "500"
       ]
      },
      {
       "output_type": "stream",
       "stream": "stdout",
       "text": [
        " http://t.co/wlizN1B7hl\n",
        "525"
       ]
      },
      {
       "output_type": "stream",
       "stream": "stdout",
       "text": [
        " http://t.co/YyzkVoK4hN\n",
        "\tNO DCC"
       ]
      },
      {
       "output_type": "stream",
       "stream": "stdout",
       "text": [
        " http://www.bbc.co.uk/hausa/multimedia/2014/11/141121_raayiriga_bokoharam?ocid=socialflow_twitter\n",
        "\tNO DCC"
       ]
      },
      {
       "output_type": "stream",
       "stream": "stdout",
       "text": [
        " http://www.bbc.co.uk/hausa/multimedia/2014/11/141121_obesity_worldwide?ocid=socialflow_twitter\n",
        "\tNO DCC"
       ]
      },
      {
       "output_type": "stream",
       "stream": "stdout",
       "text": [
        " http://www.bbc.co.uk/hausa/multimedia/2014/11/141121_us_snow_newyork?ocid=socialflow_twitter\n",
        "550"
       ]
      },
      {
       "output_type": "stream",
       "stream": "stdout",
       "text": [
        " http://t.co/TCqrEAvXkD\n",
        "575"
       ]
      },
      {
       "output_type": "stream",
       "stream": "stdout",
       "text": [
        " http://t.co/VSz9IFtTaf\n",
        "\tNO DCC"
       ]
      },
      {
       "output_type": "stream",
       "stream": "stdout",
       "text": [
        " http://www.bbc.co.uk/hausa/multimedia/2014/11/141119_burkina_faso_new_leader?ocid=socialflow_twitter\n",
        "\tNO DCC"
       ]
      },
      {
       "output_type": "stream",
       "stream": "stdout",
       "text": [
        " http://www.bbc.co.uk/hausa/multimedia/2014/11/141119_un_women?ocid=socialflow_twitter\n",
        "\tNO DCC"
       ]
      },
      {
       "output_type": "stream",
       "stream": "stdout",
       "text": [
        " http://www.bbc.co.uk/academy/hausa/article/art20141112111218705\n",
        "\tNO DCC"
       ]
      },
      {
       "output_type": "stream",
       "stream": "stdout",
       "text": [
        " http://www.bbc.co.uk/blogs/blogcollegeofjournalism/posts/How-we-discovered-the-truth-about-YouTubes-Syrian-hero-boy-video\n",
        "600"
       ]
      },
      {
       "output_type": "stream",
       "stream": "stdout",
       "text": [
        " https://t.co/Q4bK4501ER\n",
        "\tNO DCC"
       ]
      },
      {
       "output_type": "stream",
       "stream": "stdout",
       "text": [
        " https://audioboom.com/boos/2663866-gwamnan-jihar-katsina-a-nigeria-ibrahim-shema-ya-bukaci-yan-jam-iyyarsu-ta-pdp-su-buge-duk-wani-dan-adawa-da-ya-tsaya-a-hanyarsu\n",
        "\tNO DCC"
       ]
      },
      {
       "output_type": "stream",
       "stream": "stdout",
       "text": [
        " http://www.bbc.co.uk/hausa/multimedia/2014/11/141118_life_under_is?ocid=socialflow_twitter\n",
        "\tNO DCC"
       ]
      },
      {
       "output_type": "stream",
       "stream": "stdout",
       "text": [
        " http://www.bbc.co.uk/hausa/multimedia/2014/11/141118_polio_success?ocid=socialflow_twitter\n",
        "\tNO DCC"
       ]
      },
      {
       "output_type": "stream",
       "stream": "stdout",
       "text": [
        " http://www.bbc.co.uk/hausa/multimedia/2014/11/141118_mombasa_police_raid?ocid=socialflow_twitter\n",
        "\tNO DCC"
       ]
      },
      {
       "output_type": "stream",
       "stream": "stdout",
       "text": [
        " http://www.bbc.co.uk/hausa/multimedia/2014/11/141117_ebola_orphans_gallery?ocid=socialflow_twitter\n",
        "625"
       ]
      },
      {
       "output_type": "stream",
       "stream": "stdout",
       "text": [
        " http://t.co/tAhNaDSWXF\n",
        "\tNO DCC"
       ]
      },
      {
       "output_type": "stream",
       "stream": "stdout",
       "text": [
        " https://www.youtube.com/watch?v=RPYpa9Z07LU&list=UU-wos-YdZNZjOKeMONl79EA\n",
        "\tNO DCC"
       ]
      },
      {
       "output_type": "stream",
       "stream": "stdout",
       "text": [
        " http://www.bbc.co.uk/hausa/multimedia/2014/11/141117_chibok_parents_greif?ocid=socialflow_twitter\n",
        "650"
       ]
      },
      {
       "output_type": "stream",
       "stream": "stdout",
       "text": [
        " http://t.co/k5WfzMTGmW\n",
        "675"
       ]
      },
      {
       "output_type": "stream",
       "stream": "stdout",
       "text": [
        " http://t.co/8ZHqHcPzKY\n",
        "\tNO DCC"
       ]
      },
      {
       "output_type": "stream",
       "stream": "stdout",
       "text": [
        " http://www.bbc.co.uk/hausa/news/2014/11/141114_raayi-riga-inec?ocid=socialflow_twitter\n",
        "\tNO DCC"
       ]
      },
      {
       "output_type": "stream",
       "stream": "stdout",
       "text": [
        " http://www.bbc.co.uk/hausa/multimedia/2014/11/141114_click141114?ocid=socialflow_twitter\n",
        "\tNO DCC"
       ]
      },
      {
       "output_type": "stream",
       "stream": "stdout",
       "text": [
        " http://www.bbc.co.uk/hausa/multimedia/2014/11/141114_india_sterilisation?ocid=socialflow_twitter\n",
        "\tNO DCC"
       ]
      },
      {
       "output_type": "stream",
       "stream": "stdout",
       "text": [
        " http://www.bbc.co.uk/hausa/multimedia/2014/11/141114_shell_oil_spillage?ocid=socialflow_twitter\n",
        "700"
       ]
      },
      {
       "output_type": "stream",
       "stream": "stdout",
       "text": [
        " http://t.co/SjItoeOrQC\n",
        "\tNO DCC"
       ]
      },
      {
       "output_type": "stream",
       "stream": "stdout",
       "text": [
        " http://www.bbc.co.uk/hausa/multimedia/2014/11/141113_mali_ebola_vt?ocid=socialflow_twitter\n",
        "\tNO DCC"
       ]
      },
      {
       "output_type": "stream",
       "stream": "stdout",
       "text": [
        " http://www.bbc.co.uk/hausa/multimedia/2014/11/141113_syria_war?ocid=socialflow_twitter\n",
        "\tNO DCC"
       ]
      },
      {
       "output_type": "stream",
       "stream": "stdout",
       "text": [
        " http://www.bbc.co.uk/hausa/multimedia/2014/11/141113_enyeama_profile?ocid=socialflow_twitter\n",
        "725"
       ]
      },
      {
       "output_type": "stream",
       "stream": "stdout",
       "text": [
        " http://t.co/WXn3ImabaT\n",
        "\tNO DCC"
       ]
      },
      {
       "output_type": "stream",
       "stream": "stdout",
       "text": [
        " http://www.bbc.co.uk/hausa/multimedia/2014/11/141112_congo_beni_killings?ocid=socialflow_twitter\n",
        "\tNO DCC"
       ]
      },
      {
       "output_type": "stream",
       "stream": "stdout",
       "text": [
        " http://www.bbc.co.uk/hausa/multimedia/2014/11/141112_brahimi_profile?ocid=socialflow_twitter\n",
        "\tNO DCC"
       ]
      },
      {
       "output_type": "stream",
       "stream": "stdout",
       "text": [
        " http://www.bbc.co.uk/hausa/multimedia/2014/09/000000_ondemandbulletin\n",
        "750"
       ]
      },
      {
       "output_type": "stream",
       "stream": "stdout",
       "text": [
        " http://t.co/vF076k3lLW\n",
        "\tNO DCC"
       ]
      },
      {
       "output_type": "stream",
       "stream": "stdout",
       "text": [
        " http://www.bbc.co.uk/hausa/multimedia/2014/11/141111_guinea_ebola?ocid=socialflow_twitter\n",
        "775"
       ]
      },
      {
       "output_type": "stream",
       "stream": "stdout",
       "text": [
        " http://t.co/lFGB7YzFJE\n",
        "800"
       ]
      },
      {
       "output_type": "stream",
       "stream": "stdout",
       "text": [
        " http://t.co/a7KxSHxU5H\n",
        "825"
       ]
      },
      {
       "output_type": "stream",
       "stream": "stdout",
       "text": [
        " http://t.co/uNnQ8ZoHtx\n",
        "\tNO DCC"
       ]
      },
      {
       "output_type": "stream",
       "stream": "stdout",
       "text": [
        " http://www.bbc.co.uk/hausa/multimedia/2014/11/141107_raayiriga_bh_tsagaita_wuta?ocid=socialflow_twitter\n",
        "\tNO DCC"
       ]
      },
      {
       "output_type": "stream",
       "stream": "stdout",
       "text": [
        " http://www.bbc.co.uk/hausa/multimedia/2014/11/141107_click_071114?ocid=socialflow_twitter\n",
        "\tNO DCC"
       ]
      },
      {
       "output_type": "stream",
       "stream": "stdout",
       "text": [
        " http://www.bbc.co.uk/hausa/multimedia/2014/11/141106_tanzania_old_ship?ocid=socialflow_twitter\n",
        "\tNO DCC"
       ]
      },
      {
       "output_type": "stream",
       "stream": "stdout",
       "text": [
        " http://www.bbc.co.uk/hausa/multimedia/2014/11/141106_kano_bokoharam_refugees?ocid=socialflow_twitter\n",
        "850"
       ]
      },
      {
       "output_type": "stream",
       "stream": "stdout",
       "text": [
        " http://t.co/1aqc9Z1DbF\n",
        "\tNO DCC"
       ]
      },
      {
       "output_type": "stream",
       "stream": "stdout",
       "text": [
        " http://www.bbc.co.uk/hausa/multimedia/2014/11/141106_bee_keeping_training?ocid=socialflow_twitter\n",
        "875"
       ]
      },
      {
       "output_type": "stream",
       "stream": "stdout",
       "text": [
        " http://t.co/XHKfN0eMMG\n",
        "\tNO DCC"
       ]
      },
      {
       "output_type": "stream",
       "stream": "stdout",
       "text": [
        " http://www.bbc.co.uk/hausa/multimedia/2014/11/141105_statelessness_new?ocid=socialflow_twitter\n",
        "\tNO DCC"
       ]
      },
      {
       "output_type": "stream",
       "stream": "stdout",
       "text": [
        " http://www.bbc.co.uk/hausa/multimedia/2014/11/141104_china_hollywood?ocid=socialflow_twitter\n",
        "900"
       ]
      },
      {
       "output_type": "stream",
       "stream": "stdout",
       "text": [
        " http://t.co/02cZJF4e97\n",
        "\tNO DCC"
       ]
      },
      {
       "output_type": "stream",
       "stream": "stdout",
       "text": [
        " http://www.bbc.co.uk/hausa/multimedia/2014/11/141104_burkinafaso_power?ocid=socialflow_twitter\n",
        "\tNO DCC"
       ]
      },
      {
       "output_type": "stream",
       "stream": "stdout",
       "text": [
        " http://www.bbc.co.uk/hausa/multimedia/2014/11/141103_morocco_ebola?ocid=socialflow_twitter\n",
        "925"
       ]
      },
      {
       "output_type": "stream",
       "stream": "stdout",
       "text": [
        " http://t.co/kQE6pwLwTt\n",
        "\tNO DCC"
       ]
      },
      {
       "output_type": "stream",
       "stream": "stdout",
       "text": [
        " http://www.bbc.co.uk/hausa/multimedia/2014/11/141103_gallery_africa_pictures?ocid=socialflow_twitter\n",
        "\tNO DCC"
       ]
      },
      {
       "output_type": "stream",
       "stream": "stdout",
       "text": [
        " http://www.bbc.co.uk/hausa/multimedia/2014/11/141103_america_tightrope?ocid=socialflow_twitter\n",
        "950"
       ]
      },
      {
       "output_type": "stream",
       "stream": "stdout",
       "text": [
        " http://t.co/6O1DI7kwoP\n",
        "\tNO DCC"
       ]
      },
      {
       "output_type": "stream",
       "stream": "stdout",
       "text": [
        " http://www.bbc.co.uk/hausa/multimedia/2014/10/141031_raayiriga_311014?ocid=socialflow_twitter\n",
        "\tNO DCC"
       ]
      },
      {
       "output_type": "stream",
       "stream": "stdout",
       "text": [
        " http://www.bbc.co.uk/hausa/multimedia/2014/10/141031_click311014?ocid=socialflow_twitter\n",
        "\tNO DCC"
       ]
      },
      {
       "output_type": "stream",
       "stream": "stdout",
       "text": [
        " http://www.bbc.co.uk/hausa/multimedia/2014/10/141031_africa_beat_serie_8?ocid=socialflow_twitter\n",
        "975"
       ]
      },
      {
       "output_type": "stream",
       "stream": "stdout",
       "text": [
        " http://t.co/ZJXcqt3qQM\n",
        "\tNO DCC"
       ]
      },
      {
       "output_type": "stream",
       "stream": "stdout",
       "text": [
        " http://www.bbc.co.uk/hausa/multimedia/2014/09/000000_ondemandbulletin\n",
        "\tNO DCC"
       ]
      },
      {
       "output_type": "stream",
       "stream": "stdout",
       "text": [
        " http://www.bbc.co.uk/hausa/multimedia/2014/10/141030_burkinafaso_protest?ocid=socialflow_twitter\n",
        "1000"
       ]
      },
      {
       "output_type": "stream",
       "stream": "stdout",
       "text": [
        " http://t.co/UQ4gax08Wy\n",
        "\tNO DCC"
       ]
      },
      {
       "output_type": "stream",
       "stream": "stdout",
       "text": [
        " http://www.bbc.co.uk/hausa/multimedia/2014/10/141029_ebola_worldbank?ocid=socialflow_twitter\n",
        "\tNO DCC"
       ]
      },
      {
       "output_type": "stream",
       "stream": "stdout",
       "text": [
        " http://www.bbc.co.uk/hausa/multimedia/2014/10/141029_italy_migrants?ocid=socialflow_twitter\n",
        "1025"
       ]
      },
      {
       "output_type": "stream",
       "stream": "stdout",
       "text": [
        " http://t.co/UGSn3jvGBy\n",
        "\tNO DCC"
       ]
      },
      {
       "output_type": "stream",
       "stream": "stdout",
       "text": [
        " http://www.bbc.co.uk/hausa/multimedia/2014/10/141029_kenya_female_emily?ocid=socialflow_twitter\n",
        "\tNO DCC"
       ]
      },
      {
       "output_type": "stream",
       "stream": "stdout",
       "text": [
        " http://www.bbc.co.uk/hausa/multimedia/2014/10/141029_zambia_sata_video_obit?ocid=socialflow_twitter\n",
        "\tNO DCC"
       ]
      },
      {
       "output_type": "stream",
       "stream": "stdout",
       "text": [
        " http://www.bbc.co.uk/news/world-africa-29801187?ocid=socialflow_twitter#sa-ns_mchannel=rss&ns_source=PublicRSS20-sa\n",
        "\tNO DCC"
       ]
      },
      {
       "output_type": "stream",
       "stream": "stdout",
       "text": [
        " http://www.bbc.co.uk/academy/hausa/how-to/original-journalism/article/art20130702112134207\n",
        "\tNO DCC"
       ]
      },
      {
       "output_type": "stream",
       "stream": "stdout",
       "text": [
        " http://www.bbc.co.uk/hausa/multimedia/2014/10/141028_africa_pic_gallery?ocid=socialflow_twitter\n",
        "1050"
       ]
      },
      {
       "output_type": "stream",
       "stream": "stdout",
       "text": [
        " http://t.co/QqVCyVFFU0\n",
        "\tNO DCC"
       ]
      },
      {
       "output_type": "stream",
       "stream": "stdout",
       "text": [
        " http://www.bbc.co.uk/news/world-29792551\n",
        "\tNO DCC"
       ]
      },
      {
       "output_type": "stream",
       "stream": "stdout",
       "text": [
        " https://audioboom.com/boos/2600421-zan-janyewa-wanda-ya-fi-ni-cancanta-kwankwaso-http-bbc-in-zx1p4q\n",
        "\tNO DCC"
       ]
      },
      {
       "output_type": "stream",
       "stream": "stdout",
       "text": [
        " http://www.bbc.co.uk/hausa/multimedia/2014/10/141027_bokoharam_escape?ocid=socialflow_twitter\n",
        "\tNO DCC"
       ]
      },
      {
       "output_type": "stream",
       "stream": "stdout",
       "text": [
        " http://www.bbc.co.uk/hausa/multimedia/2014/10/141027_meyiwa_shot_dead?ocid=socialflow_twitter\n",
        "1075"
       ]
      },
      {
       "output_type": "stream",
       "stream": "stdout",
       "text": [
        " http://t.co/39U33G48ga\n",
        "\tNO DCC"
       ]
      },
      {
       "output_type": "stream",
       "stream": "stdout",
       "text": [
        " https://audioboom.com/boos/2597484-yadda-na-kubuta-daga-hannun-yan-boko-haram\n",
        "1100"
       ]
      },
      {
       "output_type": "stream",
       "stream": "stdout",
       "text": [
        " http://t.co/zrqiDBWoG5\n",
        "\tNO DCC"
       ]
      },
      {
       "output_type": "stream",
       "stream": "stdout",
       "text": [
        " http://www.bbc.co.uk/hausa/multimedia/2014/10/141024_raayiriga_massliteracy?ocid=socialflow_twitter\n",
        "\tNO DCC"
       ]
      },
      {
       "output_type": "stream",
       "stream": "stdout",
       "text": [
        " http://www.bbc.co.uk/hausa/multimedia/2014/10/141024_zambia_presidents_indepences?ocid=socialflow_twitter\n",
        "\tNO DCC"
       ]
      },
      {
       "output_type": "stream",
       "stream": "stdout",
       "text": [
        " http://www.bbc.co.uk/hausa/multimedia/2014/10/141024_bidiyonfasaha?ocid=socialflow_twitter\n",
        "\tNO DCC"
       ]
      },
      {
       "output_type": "stream",
       "stream": "stdout",
       "text": [
        " http://www.bbc.co.uk/hausa/multimedia/2014/10/141024_click241014?ocid=socialflow_twitter\n",
        "\tNO DCC"
       ]
      },
      {
       "output_type": "stream",
       "stream": "stdout",
       "text": [
        " http://www.bbc.co.uk/hausa/multimedia/2014/10/141024_lalanjava_musician?ocid=socialflow_twitter\n",
        "\tNO DCC"
       ]
      },
      {
       "output_type": "stream",
       "stream": "stdout",
       "text": [
        " http://www.bbc.co.uk/hausa/multimedia/2014/10/141024_paralysis_polland?ocid=socialflow_twitter\n",
        "1125 http://t.co/bjMZwIQzCT\n",
        "1150"
       ]
      },
      {
       "output_type": "stream",
       "stream": "stdout",
       "text": [
        " http://t.co/kYk2PjiQ88\n",
        "\tNO DCC"
       ]
      },
      {
       "output_type": "stream",
       "stream": "stdout",
       "text": [
        " http://www.bbc.co.uk/hausa/multimedia/2014/10/141022_cojo_hausa_promo?ocid=socialflow_twitter\n",
        "1175"
       ]
      },
      {
       "output_type": "stream",
       "stream": "stdout",
       "text": [
        " http://t.co/FdjxcAKoad\n",
        "\tNO DCC"
       ]
      },
      {
       "output_type": "stream",
       "stream": "stdout",
       "text": [
        " http://www.bbc.co.uk/hausa/multimedia/2014/10/141021_pistorius_sentence?ocid=socialflow_twitter\n",
        "\tNO DCC"
       ]
      },
      {
       "output_type": "stream",
       "stream": "stdout",
       "text": [
        " http://www.bbc.co.uk/hausa/multimedia/2014/10/141021_burkinafaso_plasticbags?ocid=socialflow_twitter\n",
        "1200"
       ]
      },
      {
       "output_type": "stream",
       "stream": "stdout",
       "text": [
        " http://t.co/QhYbixrptx\n",
        "\tNO DCC"
       ]
      },
      {
       "output_type": "stream",
       "stream": "stdout",
       "text": [
        " http://www.bbc.co.uk/hausa/multimedia/2014/10/141020_ebola_nigeria_free?ocid=socialflow_twitter\n",
        "1225"
       ]
      },
      {
       "output_type": "stream",
       "stream": "stdout",
       "text": [
        " http://t.co/9aYEKhLDAa\n",
        "\tNO DCC"
       ]
      },
      {
       "output_type": "stream",
       "stream": "stdout",
       "text": [
        " http://www.bbc.co.uk/hausa/multimedia/2014/10/141017_football_academy?ocid=socialflow_twitter\n",
        "\tNO DCC"
       ]
      },
      {
       "output_type": "stream",
       "stream": "stdout",
       "text": [
        " http://www.bbc.co.uk/hausa/news/2014/10/141017_hhys_bhceasefire?ocid=socialflow_twitter\n",
        "\tNO DCC"
       ]
      },
      {
       "output_type": "stream",
       "stream": "stdout",
       "text": [
        " http://www.bbc.co.uk/hausa/multimedia/2014/10/141015_fsh-music?ocid=socialflow_twitter\n",
        "1250"
       ]
      },
      {
       "output_type": "stream",
       "stream": "stdout",
       "text": [
        " http://t.co/Dh6JQv8Dke\n",
        "1275"
       ]
      },
      {
       "output_type": "stream",
       "stream": "stdout",
       "text": [
        " http://t.co/LXRtpRce2J\n",
        "\tNO DCC"
       ]
      },
      {
       "output_type": "stream",
       "stream": "stdout",
       "text": [
        " http://www.bbc.co.uk/hausa/multimedia/2014/10/141015_north_korea?ocid=socialflow_twitter\n",
        "\tNO DCC"
       ]
      },
      {
       "output_type": "stream",
       "stream": "stdout",
       "text": [
        " http://www.bbc.co.uk/hausa/multimedia/2014/10/141014_ebola_explainer_gfx?ocid=socialflow_twitter\n",
        "1300"
       ]
      },
      {
       "output_type": "stream",
       "stream": "stdout",
       "text": [
        " http://t.co/xMdIu98atV\n",
        "1325"
       ]
      },
      {
       "output_type": "stream",
       "stream": "stdout",
       "text": [
        " http://t.co/W2IK7ykYLW\n",
        "1350"
       ]
      },
      {
       "output_type": "stream",
       "stream": "stdout",
       "text": [
        " http://t.co/W47U2L7WdH\n",
        "1375"
       ]
      },
      {
       "output_type": "stream",
       "stream": "stdout",
       "text": [
        " http://t.co/BAU8OAT3yT\n",
        "\tNO DCC"
       ]
      },
      {
       "output_type": "stream",
       "stream": "stdout",
       "text": [
        " http://www.bbc.co.uk/hausa/multimedia/2014/10/141010_click_10102014?ocid=socialflow_twitter\n",
        "1400"
       ]
      },
      {
       "output_type": "stream",
       "stream": "stdout",
       "text": [
        " http://t.co/Uho0Am7b7c\n",
        "\tNO DCC"
       ]
      },
      {
       "output_type": "stream",
       "stream": "stdout",
       "text": [
        " http://www.bbc.co.uk/hausa/multimedia/2014/10/141008_icc_criminalcourt_kenyatta?ocid=socialflow_twitter\n",
        "\tNO DCC"
       ]
      },
      {
       "output_type": "stream",
       "stream": "stdout",
       "text": [
        " http://www.bbc.co.uk/academy/hausa/language/bitesize/article/art20141007170038993\n",
        "\tNO DCC"
       ]
      },
      {
       "output_type": "stream",
       "stream": "stdout",
       "text": [
        " http://www.bbc.co.uk/hausa/multimedia/2014/10/141007_catholic_synod?ocid=socialflow_twitter\n",
        "1425"
       ]
      },
      {
       "output_type": "stream",
       "stream": "stdout",
       "text": [
        " http://t.co/Cokv6NgOGA\n",
        "\tNO DCC"
       ]
      },
      {
       "output_type": "stream",
       "stream": "stdout",
       "text": [
        " http://www.bbc.co.uk/news/uk-politics-29488451?ocid=socialflow_twitter\n",
        "\tNO DCC"
       ]
      },
      {
       "output_type": "stream",
       "stream": "stdout",
       "text": [
        " http://www.bbc.co.uk/news/health-29474475?ocid=socialflow_twitter\n",
        "\tNO DCC"
       ]
      },
      {
       "output_type": "stream",
       "stream": "stdout",
       "text": [
        " http://www.bbc.co.uk/news/health-29488458?ocid=socialflow_twitter\n",
        "\tNO DCC"
       ]
      },
      {
       "output_type": "stream",
       "stream": "stdout",
       "text": [
        " http://www.bbc.co.uk/news/world-29484922?ocid=socialflow_twitter\n",
        "\tNO DCC"
       ]
      },
      {
       "output_type": "stream",
       "stream": "stdout",
       "text": [
        " http://www.bbc.co.uk/news/uk-29488453?ocid=socialflow_twitter\n",
        "\tNO DCC"
       ]
      },
      {
       "output_type": "stream",
       "stream": "stdout",
       "text": [
        " http://www.bbc.co.uk/news/health-29502501?ocid=socialflow_twitter\n",
        "\tNO DCC"
       ]
      },
      {
       "output_type": "stream",
       "stream": "stdout",
       "text": [
        " http://www.bbc.co.uk/news/world-us-canada-29501964?ocid=socialflow_twitter\n",
        "\tNO DCC"
       ]
      },
      {
       "output_type": "stream",
       "stream": "stdout",
       "text": [
        " http://www.bbc.co.uk/news/uk-england-29466124?ocid=socialflow_twitter\n",
        "1450"
       ]
      },
      {
       "output_type": "stream",
       "stream": "stdout",
       "text": [
        " http://t.co/KFb6qRS2TP\n",
        "\tNO DCC"
       ]
      },
      {
       "output_type": "stream",
       "stream": "stdout",
       "text": [
        " http://www.bbc.co.uk/hausa/news/2014/10/141003_raayiriga_matsalarkabilanci?ocid=socialflow_twitter\n",
        "\tNO DCC"
       ]
      },
      {
       "output_type": "stream",
       "stream": "stdout",
       "text": [
        " http://www.bbc.co.uk/hausa/multimedia/2014/10/141003_hausa_click_0310?ocid=socialflow_twitter\n",
        "1475"
       ]
      },
      {
       "output_type": "stream",
       "stream": "stdout",
       "text": [
        " http://t.co/83t1WkOzhl\n",
        "1500"
       ]
      },
      {
       "output_type": "stream",
       "stream": "stdout",
       "text": [
        " http://t.co/pJTdjetE4S\n",
        "\tNO DCC"
       ]
      },
      {
       "output_type": "stream",
       "stream": "stdout",
       "text": [
        " http://www.bbc.co.uk/hausa/multimedia/2014/10/141001_afirka_tsofaffi?ocid=socialflow_twitter\n",
        "\tNO DCC"
       ]
      },
      {
       "output_type": "stream",
       "stream": "stdout",
       "text": [
        " http://www.bbc.co.uk/hausa/multimedia/2014/10/141001_gwaggon_biri?ocid=socialflow_twitter\n",
        "\tNO DCC"
       ]
      },
      {
       "output_type": "stream",
       "stream": "stdout",
       "text": [
        " http://www.bbc.co.uk/hausa/multimedia/2014/09/140930_hong_kong_protest?ocid=socialflow_twitter\n",
        "1525"
       ]
      },
      {
       "output_type": "stream",
       "stream": "stdout",
       "text": [
        " http://t.co/09R268x3rr\n",
        "\tNO DCC"
       ]
      },
      {
       "output_type": "stream",
       "stream": "stdout",
       "text": [
        " http://www.bbc.co.uk/hausa/multimedia/2014/09/140930_marayu_ebola?ocid=socialflow_twitter\n",
        "\tNO DCC"
       ]
      },
      {
       "output_type": "stream",
       "stream": "stdout",
       "text": [
        " http://www.bbc.co.uk/hausa/multimedia/2014/09/140930_namun_daji?ocid=socialflow_twitter\n",
        "\tNO DCC"
       ]
      },
      {
       "output_type": "stream",
       "stream": "stdout",
       "text": [
        " http://www.bbc.co.uk/hausa/multimedia/2014/09/140930_ebola_marayu?ocid=socialflow_twitter\n",
        "\tNO DCC"
       ]
      },
      {
       "output_type": "stream",
       "stream": "stdout",
       "text": [
        " http://www.bbc.co.uk/hausa/multimedia/2014/09/140929_sudan_apostocy_campaign?ocid=socialflow_twitter\n",
        "1550"
       ]
      },
      {
       "output_type": "stream",
       "stream": "stdout",
       "text": [
        " http://t.co/yJGPVCQN8K\n",
        "\tNO DCC"
       ]
      },
      {
       "output_type": "stream",
       "stream": "stdout",
       "text": [
        " http://www.bbc.co.uk/hausa/multimedia/2014/09/140929_africa_beats_hausa?ocid=socialflow_twitter\n",
        "1575"
       ]
      },
      {
       "output_type": "stream",
       "stream": "stdout",
       "text": [
        " http://t.co/NOZvvlLYFd\n",
        "\tNO DCC"
       ]
      },
      {
       "output_type": "stream",
       "stream": "stdout",
       "text": [
        " http://www.bbc.co.uk/hausa/multimedia/2014/09/140811_raayi_riga260914?ocid=socialflow_twitter\n",
        "\tNO DCC"
       ]
      },
      {
       "output_type": "stream",
       "stream": "stdout",
       "text": [
        " http://www.bbc.co.uk/hausa/multimedia/2014/09/140926_great_lakes?ocid=socialflow_twitter\n",
        "\tNO DCC"
       ]
      },
      {
       "output_type": "stream",
       "stream": "stdout",
       "text": [
        " http://www.bbc.co.uk/hausa/multimedia/2014/09/140926_click?ocid=socialflow_twitter\n",
        "\tNO DCC"
       ]
      },
      {
       "output_type": "stream",
       "stream": "stdout",
       "text": [
        " http://careerssearch.bbc.co.uk/jobs/job/Bilingual-Reporter-Nigeria-EnglishHausa/9645\n",
        "1600"
       ]
      },
      {
       "output_type": "stream",
       "stream": "stdout",
       "text": [
        " http://t.co/mRSMSWFf9Y\n",
        "\tNO DCC"
       ]
      },
      {
       "output_type": "stream",
       "stream": "stdout",
       "text": [
        " http://www.bbc.co.uk/hausa/multimedia/2014/09/140925_saliyo_expand_quarantine?ocid=socialflow_twitter\n",
        "1625"
       ]
      },
      {
       "output_type": "stream",
       "stream": "stdout",
       "text": [
        " http://t.co/PZYHLbf0Vw\n",
        "\tNO DCC"
       ]
      },
      {
       "output_type": "stream",
       "stream": "stdout",
       "text": [
        " http://www.bbc.co.uk/hausa/multimedia/2014/09/140924_ebola_saliyo_burtaniya?ocid=socialflow_twitter\n",
        "\tNO DCC"
       ]
      },
      {
       "output_type": "stream",
       "stream": "stdout",
       "text": [
        " http://www.bbc.co.uk/hausa/multimedia/2014/09/140924_liberia_trees?ocid=socialflow_twitter\n",
        "1650"
       ]
      },
      {
       "output_type": "stream",
       "stream": "stdout",
       "text": [
        " http://t.co/QcchItyqGU\n",
        "\tNO DCC"
       ]
      },
      {
       "output_type": "stream",
       "stream": "stdout",
       "text": [
        " http://www.bbc.co.uk/academy/hausa/article/art20140923161913016\n",
        "\tNO DCC"
       ]
      },
      {
       "output_type": "stream",
       "stream": "stdout",
       "text": [
        " http://www.bbc.co.uk/hausa/multimedia/2014/09/140922_ebola_sierraleone_lockdown?ocid=socialflow_twitter\n",
        "1675"
       ]
      },
      {
       "output_type": "stream",
       "stream": "stdout",
       "text": [
        " http://t.co/VxOXgm143S\n",
        "1700"
       ]
      },
      {
       "output_type": "stream",
       "stream": "stdout",
       "text": [
        " http://t.co/cTZGEKL4M4\n",
        "\tNO DCC"
       ]
      },
      {
       "output_type": "stream",
       "stream": "stdout",
       "text": [
        " http://www.bbc.co.uk/hausa/multimedia/2014/09/140919_raayiriga190914?ocid=socialflow_twitter\n",
        "\tNO DCC"
       ]
      },
      {
       "output_type": "stream",
       "stream": "stdout",
       "text": [
        " http://www.bbc.co.uk/hausa/multimedia/2014/09/140919_click190914?ocid=socialflow_twitter\n",
        "\tNO DCC"
       ]
      },
      {
       "output_type": "stream",
       "stream": "stdout",
       "text": [
        " http://www.bbc.co.uk/hausa/multimedia/2014/09/140919_fsh-music2?ocid=socialflow_twitter\n",
        "\tNO DCC"
       ]
      },
      {
       "output_type": "stream",
       "stream": "stdout",
       "text": [
        " http://www.bbc.co.uk/hausa/multimedia/2014/09/140919_atiku_2015_controversies?ocid=socialflow_twitter\n",
        "1725"
       ]
      },
      {
       "output_type": "stream",
       "stream": "stdout",
       "text": [
        " http://t.co/0hPR6s3yqZ\n",
        "\tNO DCC"
       ]
      },
      {
       "output_type": "stream",
       "stream": "stdout",
       "text": [
        " http://www.bbc.co.uk/hausa/multimedia/2014/09/000000_ondemandbulletin\n",
        "\tNO DCC"
       ]
      },
      {
       "output_type": "stream",
       "stream": "stdout",
       "text": [
        " http://www.bbc.co.uk/hausa/multimedia/2014/09/140918_westgate_explainer?ocid=socialflow_twitter\n",
        "1750"
       ]
      },
      {
       "output_type": "stream",
       "stream": "stdout",
       "text": [
        " http://t.co/VVpnSJpcDR\n",
        "\tNO DCC"
       ]
      },
      {
       "output_type": "stream",
       "stream": "stdout",
       "text": [
        " http://www.bbc.co.uk/hausa/multimedia/2014/09/140917_ebola_trial_britain?ocid=socialflow_twitter\n",
        "\tNO DCC"
       ]
      },
      {
       "output_type": "stream",
       "stream": "stdout",
       "text": [
        " http://www.bbc.co.uk/hausa/multimedia/2014/09/140916_bbcwellwisher_hausa?ocid=socialflow_twitter\n",
        "\tNO DCC"
       ]
      },
      {
       "output_type": "stream",
       "stream": "stdout",
       "text": [
        " http://www.bbc.co.uk/academy/hausa/how-to/production/article/art20140916162020533\n",
        "1775 http://t.co/cUrp6DJzsM\n",
        "\tNO DCC"
       ]
      },
      {
       "output_type": "stream",
       "stream": "stdout",
       "text": [
        " http://www.bbc.co.uk/hausa/multimedia/2014/09/140916_emir_sanusi_video?ocid=socialflow_twitter\n",
        "1800"
       ]
      },
      {
       "output_type": "stream",
       "stream": "stdout",
       "text": [
        " http://t.co/nQZVGmPbnN\n",
        "\tNO DCC"
       ]
      },
      {
       "output_type": "stream",
       "stream": "stdout",
       "text": [
        " http://www.bbc.co.uk/hausa/multimedia/2014/09/140913_africa_beat_hausa?ocid=socialflow_twitter\n",
        "\tNO DCC"
       ]
      },
      {
       "output_type": "stream",
       "stream": "stdout",
       "text": [
        " http://www.bbc.co.uk/hausa/multimedia/2014/09/140811_raayi_yanhijira?ocid=socialflow_twitter\n",
        "\tNO DCC"
       ]
      },
      {
       "output_type": "stream",
       "stream": "stdout",
       "text": [
        " http://www.bbc.co.uk/hausa/multimedia/2014/09/000000_ondemandbulletin\n",
        "\tNO DCC"
       ]
      },
      {
       "output_type": "stream",
       "stream": "stdout",
       "text": [
        " http://www.bbc.co.uk/hausa/multimedia/2014/09/140912_click120914?ocid=socialflow_twitter\n",
        "\tNO DCC"
       ]
      },
      {
       "output_type": "stream",
       "stream": "stdout",
       "text": [
        " http://www.bbc.co.uk/hausa/multimedia/2014/09/140912_ghana_scrap_bola?ocid=socialflow_twitter\n",
        "1825"
       ]
      },
      {
       "output_type": "stream",
       "stream": "stdout",
       "text": [
        " http://t.co/8RmM3Ll7Ev\n",
        "\tNO DCC"
       ]
      },
      {
       "output_type": "stream",
       "stream": "stdout",
       "text": [
        " http://www.bbc.co.uk/hausa/multimedia/2014/09/140911_oscar_pistorius_explainer?ocid=socialflow_twitter\n",
        "\tNO DCC"
       ]
      },
      {
       "output_type": "stream",
       "stream": "stdout",
       "text": [
        " http://www.bbc.co.uk/hausa/multimedia/2014/09/140911_niger_ebola_minister?ocid=socialflow_twitter\n",
        "\tNO DCC"
       ]
      },
      {
       "output_type": "stream",
       "stream": "stdout",
       "text": [
        " http://www.bbc.co.uk/hausa/multimedia/2014/09/000000_ondemandbulletin\n",
        "\tNO DCC"
       ]
      },
      {
       "output_type": "stream",
       "stream": "stdout",
       "text": [
        " http://www.bbc.co.uk/hausa/multimedia/2014/09/140911_nigeria_pensioners_protest?ocid=socialflow_twitter\n",
        "\tNO DCC"
       ]
      },
      {
       "output_type": "stream",
       "stream": "stdout",
       "text": [
        " http://www.bbc.co.uk/hausa/multimedia/2014/09/140911_niger_ebola_minister.shtml?ocid=socialflow_twitter\n",
        "\tNO DCC"
       ]
      },
      {
       "output_type": "stream",
       "stream": "stdout",
       "text": [
        " http://www.bbc.co.uk/hausa/multimedia/2014/09/140911_nigeria_pensioners_protest.shtml?ocid=socialflow_twitter\n",
        "\tNO DCC"
       ]
      },
      {
       "output_type": "stream",
       "stream": "stdout",
       "text": [
        " http://www.bbc.co.uk/hausa/multimedia/2014/09/140911_oscar_pistorius_explainer.shtml?ocid=socialflow_twitter\n",
        "1850"
       ]
      },
      {
       "output_type": "stream",
       "stream": "stdout",
       "text": [
        " http://t.co/YVslji40Xb\n",
        "\tNO DCC"
       ]
      },
      {
       "output_type": "stream",
       "stream": "stdout",
       "text": [
        " http://www.bbc.co.uk/hausa/multimedia/2014/09/000000_livebulletin.shtml?ocid=socialflow_twitter\n",
        "\tNO DCC"
       ]
      },
      {
       "output_type": "stream",
       "stream": "stdout",
       "text": [
        " http://www.bbc.co.uk/hausa/multimedia/2014/09/140910_apple_launch_short.shtml?ocid=socialflow_twitter\n",
        "\tNO DCC"
       ]
      },
      {
       "output_type": "stream",
       "stream": "stdout",
       "text": [
        " http://www.bbc.co.uk/hausa/multimedia/2014/09/140910_ghana_nima_market.shtml?ocid=socialflow_twitter\n",
        "\tNO DCC"
       ]
      },
      {
       "output_type": "stream",
       "stream": "stdout",
       "text": [
        " http://www.bbc.co.uk/hausa/multimedia/2014/09/140910_ebola_msf_liberia.shtml?ocid=socialflow_twitter\n",
        "1875"
       ]
      },
      {
       "output_type": "stream",
       "stream": "stdout",
       "text": [
        " http://t.co/6Unmo1ow5W\n",
        "\tNO DCC"
       ]
      },
      {
       "output_type": "stream",
       "stream": "stdout",
       "text": [
        " http://www.bbc.co.uk/hausa/multimedia/2014/09/140909_hausa_tv_launch_.shtml?ocid=socialflow_twitter\n",
        "\tNO DCC"
       ]
      },
      {
       "output_type": "stream",
       "stream": "stdout",
       "text": [
        " http://www.bbc.co.uk/hausa/multimedia/2014/09/000000_ondemandbulletin.shtml?ocid=socialflow_twitter\n",
        "1900"
       ]
      },
      {
       "output_type": "stream",
       "stream": "stdout",
       "text": [
        " http://t.co/1kHoowdqUx\n",
        "\tNO DCC"
       ]
      },
      {
       "output_type": "stream",
       "stream": "stdout",
       "text": [
        " http://www.bbc.co.uk/hausa/multimedia/2014/09/140902_hausapromo.shtml?ocid=socialflow_twitter\n",
        "\tNO DCC"
       ]
      },
      {
       "output_type": "stream",
       "stream": "stdout",
       "text": [
        " http://www.bbc.co.uk/hausa/multimedia/2014/09/140902_hausapromo\n",
        "1925"
       ]
      },
      {
       "output_type": "stream",
       "stream": "stdout",
       "text": [
        " http://t.co/EuEBf4mWrL\n",
        "\tNO DCC"
       ]
      },
      {
       "output_type": "stream",
       "stream": "stdout",
       "text": [
        " http://www.bbc.co.uk/hausa/news/2014/09/140905_raayi_riga_agric_new.shtml?ocid=socialflow_twitter\n",
        "\tNO DCC"
       ]
      },
      {
       "output_type": "stream",
       "stream": "stdout",
       "text": [
        " http://www.bbc.co.uk/hausa/multimedia/2014/09/140905_click050914.shtml?ocid=socialflow_twitter\n",
        "1950"
       ]
      },
      {
       "output_type": "stream",
       "stream": "stdout",
       "text": [
        " http://t.co/l9VQT2eCdo\n",
        "\tNO DCC"
       ]
      },
      {
       "output_type": "stream",
       "stream": "stdout",
       "text": [
        " http://www.bbc.co.uk/hausa/multimedia/2014/09/140904_alshabab_explainer_60secs.shtml?ocid=socialflow_twitter\n",
        "\tNO DCC"
       ]
      },
      {
       "output_type": "stream",
       "stream": "stdout",
       "text": [
        " http://www.bbc.co.uk/hausa/multimedia/2014/09/140904_ebola_short.shtml?ocid=socialflow_twitter\n",
        "1975"
       ]
      },
      {
       "output_type": "stream",
       "stream": "stdout",
       "text": [
        " http://t.co/IRudMC6SJC\n",
        "\tNO DCC"
       ]
      },
      {
       "output_type": "stream",
       "stream": "stdout",
       "text": [
        " http://www.bbc.co.uk/hausa/multimedia/2014/09/140902_corruption_poverty_report.shtml?ocid=socialflow_twitter\n",
        "\tNO DCC"
       ]
      },
      {
       "output_type": "stream",
       "stream": "stdout",
       "text": [
        " http://www.bbc.co.uk/hausa/multimedia/2014/09/140902_china_wedding_pictures.shtml?ocid=socialflow_twitter\n",
        "\tNO DCC"
       ]
      },
      {
       "output_type": "stream",
       "stream": "stdout",
       "text": [
        " http://www.bbc.co.uk/hausa/multimedia/2014/09/140902_ebola_liberia_escapee.shtml?ocid=socialflow_twitter\n",
        "2000"
       ]
      },
      {
       "output_type": "stream",
       "stream": "stdout",
       "text": [
        " http://t.co/anBfHPu35L\n",
        "\tNO DCC"
       ]
      },
      {
       "output_type": "stream",
       "stream": "stdout",
       "text": [
        " http://www.bbc.co.uk/hausa/multimedia/2014/09/140902_meat_eating_package.shtml?ocid=socialflow_twitter\n",
        "\tNO DCC"
       ]
      },
      {
       "output_type": "stream",
       "stream": "stdout",
       "text": [
        " http://www.bbc.co.uk/hausa/multimedia/2014/09/140901_ebola_westafrika.shtml?ocid=socialflow_twitter\n",
        "\tNO DCC"
       ]
      },
      {
       "output_type": "stream",
       "stream": "stdout",
       "text": [
        " http://www.bbc.co.uk/hausa/news/2014/09/140901_india_scarvengers_inpictures.shtml?ocid=socialflow_twitter\n",
        "2025"
       ]
      },
      {
       "output_type": "stream",
       "stream": "stdout",
       "text": [
        " http://t.co/xqoz48L2r4\n",
        "\tNO DCC"
       ]
      },
      {
       "output_type": "stream",
       "stream": "stdout",
       "text": [
        " http://www.bbc.co.uk/hausa/multimedia/2014/09/140901_animation_dakar_short.shtml?ocid=socialflow_twitter\n",
        "2050"
       ]
      },
      {
       "output_type": "stream",
       "stream": "stdout",
       "text": [
        " http://t.co/gtYb7oRPOP\n",
        "\tNO DCC"
       ]
      },
      {
       "output_type": "stream",
       "stream": "stdout",
       "text": [
        " http://www.bbc.co.uk/hausa/multimedia/2014/08/140829_raayi_riga.shtml?ocid=socialflow_twitter\n",
        "\tNO DCC"
       ]
      },
      {
       "output_type": "stream",
       "stream": "stdout",
       "text": [
        " http://www.bbc.co.uk/hausa/multimedia/2014/08/140829_click290814.shtml?ocid=socialflow_twitter\n",
        "2075"
       ]
      },
      {
       "output_type": "stream",
       "stream": "stdout",
       "text": [
        " http://t.co/dDHz6nkxCA\n",
        "\tNO DCC"
       ]
      },
      {
       "output_type": "stream",
       "stream": "stdout",
       "text": [
        " http://www.bbc.co.uk/hausa/multimedia/2014/08/140828_ukraine_check_point.shtml?ocid=socialflow_twitter\n",
        "2100"
       ]
      },
      {
       "output_type": "stream",
       "stream": "stdout",
       "text": [
        " http://t.co/9oRG8SQ1ME\n",
        "2125"
       ]
      },
      {
       "output_type": "stream",
       "stream": "stdout",
       "text": [
        " http://t.co/j3KbUJA9W4\n",
        "2150"
       ]
      },
      {
       "output_type": "stream",
       "stream": "stdout",
       "text": [
        " http://t.co/dWCPYN5BpG\n",
        "2175"
       ]
      },
      {
       "output_type": "stream",
       "stream": "stdout",
       "text": [
        " http://t.co/He2Oi6U4Ek\n",
        "\tNO DCC"
       ]
      },
      {
       "output_type": "stream",
       "stream": "stdout",
       "text": [
        " http://www.bbc.co.uk/hausa/news/2014/08/140822_raayi_boko_haram.shtml?ocid=socialflow_twitter\n",
        "2200"
       ]
      },
      {
       "output_type": "stream",
       "stream": "stdout",
       "text": [
        " http://t.co/prP9p1J3v8\n",
        "\tNO DCC"
       ]
      },
      {
       "output_type": "stream",
       "stream": "stdout",
       "text": [
        " http://www.bbc.co.uk/hausa/multimedia/2014/08/140822_click_220814.shtml?ocid=socialflow_twitter\n",
        "2225"
       ]
      },
      {
       "output_type": "stream",
       "stream": "stdout",
       "text": [
        " http://t.co/oFP9wyXgrB\n",
        "\tNO DCC"
       ]
      },
      {
       "output_type": "stream",
       "stream": "stdout",
       "text": [
        " http://www.bbc.co.uk/hausa/multimedia/2014/08/140821_darfurrefugees_now_before.shtml?ocid=socialflow_twitter\n",
        "2250"
       ]
      },
      {
       "output_type": "stream",
       "stream": "stdout",
       "text": [
        " http://t.co/qYzuXjpsKB\n",
        "\tNO DCC"
       ]
      },
      {
       "output_type": "stream",
       "stream": "stdout",
       "text": [
        " http://www.bbc.co.uk/hausa/multimedia/2014/08/140818_elephants_africa.shtml?ocid=socialflow_twitter\n",
        "2275"
       ]
      },
      {
       "output_type": "stream",
       "stream": "stdout",
       "text": [
        " http://t.co/62WQq2l3u7\n",
        "\tNO DCC"
       ]
      },
      {
       "output_type": "stream",
       "stream": "stdout",
       "text": [
        " http://www.bbc.co.uk/hausa/multimedia/2014/08/140818_ebola_new_liberia.shtml?ocid=socialflow_twitter\n",
        "\tNO DCC"
       ]
      },
      {
       "output_type": "stream",
       "stream": "stdout",
       "text": [
        " http://www.bbc.co.uk/hausa/multimedia/2014/08/140818_ebola_liberia.shtml?ocid=socialflow_twitter\n",
        "2300"
       ]
      },
      {
       "output_type": "stream",
       "stream": "stdout",
       "text": [
        " http://t.co/zo0HFcFGuT\n",
        "\tNO DCC"
       ]
      },
      {
       "output_type": "stream",
       "stream": "stdout",
       "text": [
        " http://www.bbc.co.uk/hausa/multimedia/2014/08/140811_raayi_riga.shtml?ocid=socialflow_twitter\n",
        "\tNO DCC"
       ]
      },
      {
       "output_type": "stream",
       "stream": "stdout",
       "text": [
        " http://www.bbc.co.uk/hausa/news/2014/08/140815_click_video.shtml?ocid=socialflow_twitter\n",
        "2325"
       ]
      },
      {
       "output_type": "stream",
       "stream": "stdout",
       "text": [
        " http://t.co/w09oFGoGLc\n",
        "\tNO DCC"
       ]
      },
      {
       "output_type": "stream",
       "stream": "stdout",
       "text": [
        " http://www.bbc.co.uk/hausa/multimedia/2014/08/140815_yazidis_pic_gallery.shtml?ocid=socialflow_twitter\n",
        "2350"
       ]
      },
      {
       "output_type": "stream",
       "stream": "stdout",
       "text": [
        " http://t.co/p25PXENE9F\n",
        "\tNO DCC"
       ]
      },
      {
       "output_type": "stream",
       "stream": "stdout",
       "text": [
        " http://www.bbc.co.uk/hausa/multimedia/2014/08/140813_ebola_canada_video.shtml?ocid=socialflow_twitter\n",
        "\tNO DCC"
       ]
      },
      {
       "output_type": "stream",
       "stream": "stdout",
       "text": [
        " http://www.bbc.co.uk/hausa/indepth/ebola_drug.shtml?ocid=socialflow_twitter\n",
        "\tNO DCC"
       ]
      },
      {
       "output_type": "stream",
       "stream": "stdout",
       "text": [
        " http://www.bbc.co.uk/hausa/multimedia/2014/08/140813_ebola_explainer_video.shtml?ocid=socialflow_twitter\n",
        "2375"
       ]
      },
      {
       "output_type": "stream",
       "stream": "stdout",
       "text": [
        " http://t.co/3k7fZXLXj3\n",
        "\tNO DCC"
       ]
      },
      {
       "output_type": "stream",
       "stream": "stdout",
       "text": [
        " http://www.bbc.co.uk/hausa/multimedia/2014/08/140811_un_youth_day.shtml?ocid=socialflow_twitter\n",
        "2400"
       ]
      },
      {
       "output_type": "stream",
       "stream": "stdout",
       "text": [
        " http://t.co/W84Pu482id\n",
        "2425"
       ]
      },
      {
       "output_type": "stream",
       "stream": "stdout",
       "text": [
        " http://t.co/OZBIXgiKkR\n",
        "\tNO DCC"
       ]
      },
      {
       "output_type": "stream",
       "stream": "stdout",
       "text": [
        " http://www.bbc.co.uk/hausa/news/2014/08/140808_newclick0800814.shtml?ocid=socialflow_twitter\n",
        "\tNO DCC"
       ]
      },
      {
       "output_type": "stream",
       "stream": "stdout",
       "text": [
        " http://www.bbc.co.uk/hausa/multimedia/2014/08/140808_raayiebola.shtml?ocid=socialflow_twitter\n",
        "2450"
       ]
      },
      {
       "output_type": "stream",
       "stream": "stdout",
       "text": [
        " http://t.co/R4jOGCTSP5\n",
        "\tNO DCC"
       ]
      },
      {
       "output_type": "stream",
       "stream": "stdout",
       "text": [
        " http://www.bbc.co.uk/hausa/news/2014/08/140807_senegal_sculptor_video.shtml?ocid=socialflow_twitter\n",
        "\tNO DCC"
       ]
      },
      {
       "output_type": "stream",
       "stream": "stdout",
       "text": [
        " http://www.bbc.co.uk/hausa/multimedia/2014/08/140807_us_africa_gallery.shtml?ocid=socialflow_twitter\n",
        "2475"
       ]
      },
      {
       "output_type": "stream",
       "stream": "stdout",
       "text": [
        " http://t.co/edWrFIK6YP\n",
        "\tNO DCC"
       ]
      },
      {
       "output_type": "stream",
       "stream": "stdout",
       "text": [
        " http://www.bbc.co.uk/hausa/multimedia/2014/08/140806_us_africa_summit_video.shtml?ocid=socialflow_twitter\n",
        "\tNO DCC"
       ]
      },
      {
       "output_type": "stream",
       "stream": "stdout",
       "text": [
        " http://www.bbc.co.uk/hausa/multimedia/2014/08/140806_bokoharam_amnesty_video.shtml?ocid=socialflow_twitter\n",
        "2500"
       ]
      },
      {
       "output_type": "stream",
       "stream": "stdout",
       "text": [
        " http://t.co/VxrnRSp0Kw\n",
        "2525"
       ]
      },
      {
       "output_type": "stream",
       "stream": "stdout",
       "text": [
        " http://t.co/D9AeZzfTg6\n",
        "2550"
       ]
      },
      {
       "output_type": "stream",
       "stream": "stdout",
       "text": [
        " http://t.co/J3fmSYqob4\n",
        "\tNO DCC"
       ]
      },
      {
       "output_type": "stream",
       "stream": "stdout",
       "text": [
        " http://www.bbc.co.uk/hausa/multimedia/2014/08/140801_raayi_nono.shtml?ocid=socialflow_twitter\n",
        "\tNO DCC"
       ]
      },
      {
       "output_type": "stream",
       "stream": "stdout",
       "text": [
        " http://www.bbc.co.uk/hausa/multimedia/2014/08/140801_ebola_mansur_interview.shtml?ocid=socialflow_twitter\n",
        "2575"
       ]
      },
      {
       "output_type": "stream",
       "stream": "stdout",
       "text": [
        " http://t.co/MYrDl9v9YP\n",
        "\tNO DCC"
       ]
      },
      {
       "output_type": "stream",
       "stream": "stdout",
       "text": [
        " http://www.bbc.co.uk/hausa/multimedia/2014/07/140731_egypt_tent_makers.shtml?ocid=socialflow_twitter\n",
        "\tNO DCC"
       ]
      },
      {
       "output_type": "stream",
       "stream": "stdout",
       "text": [
        " http://www.bbc.co.uk/hausa/multimedia/2014/07/140731_senegal_wade_trial.shtml?ocid=socialflow_twitter\n",
        "2600 http://t.co/1kBdkpSEDy\n",
        "\tNO DCC"
       ]
      },
      {
       "output_type": "stream",
       "stream": "stdout",
       "text": [
        " http://www.bbc.co.uk/hausa/multimedia/2014/07/140730_ebola_outofcontrol.shtml?ocid=socialflow_twitter\n",
        "\tNO DCC"
       ]
      },
      {
       "output_type": "stream",
       "stream": "stdout",
       "text": [
        " http://www.bbc.co.uk/hausa/multimedia/2014/07/140730_uk_cars_driverless.shtml?ocid=socialflow_twitter\n",
        "2625"
       ]
      },
      {
       "output_type": "stream",
       "stream": "stdout",
       "text": [
        " http://t.co/WBln5dhcXd\n",
        "\tNO DCC"
       ]
      },
      {
       "output_type": "stream",
       "stream": "stdout",
       "text": [
        " http://www.bbc.co.uk/hausa/multimedia/2014/07/140729_car_muslims_eid.shtml?ocid=socialflow_twitter\n",
        "\tNO DCC"
       ]
      },
      {
       "output_type": "stream",
       "stream": "stdout",
       "text": [
        " http://www.bbc.co.uk/hausa/multimedia/2014/07/140729_nigeria_doping_.shtml?ocid=socialflow_twitter\n",
        "\tNO DCC"
       ]
      },
      {
       "output_type": "stream",
       "stream": "stdout",
       "text": [
        " http://www.bbc.co.uk/hausa/multimedia/2014/07/140729_israel_gaza_bombardments.shtml?ocid=socialflow_twitter\n",
        "\tNO DCC"
       ]
      },
      {
       "output_type": "stream",
       "stream": "stdout",
       "text": [
        " http://www.bbc.co.uk/hausa/multimedia/2014/07/140728_ethiopia_protest.shtml?ocid=socialflow_twitter\n",
        "2650"
       ]
      },
      {
       "output_type": "stream",
       "stream": "stdout",
       "text": [
        " http://t.co/Js1yq6Epyi\n",
        "\tNO DCC"
       ]
      },
      {
       "output_type": "stream",
       "stream": "stdout",
       "text": [
        " http://www.bbc.co.uk/hausa/multimedia/2014/07/140720_raayi_riga_25072014.shtml?ocid=socialflow_twitter\n",
        "\tNO DCC"
       ]
      },
      {
       "output_type": "stream",
       "stream": "stdout",
       "text": [
        " http://www.bbc.co.uk/hausa/multimedia/2014/07/140725_click_250714.shtml?ocid=socialflow_twitter\n",
        "2675 http://t.co/snGV2KkxXC\n",
        "2700"
       ]
      },
      {
       "output_type": "stream",
       "stream": "stdout",
       "text": [
        " http://t.co/sXTSvGK7Le\n",
        "\tNO DCC"
       ]
      },
      {
       "output_type": "stream",
       "stream": "stdout",
       "text": [
        " http://www.bbc.co.uk/hausa/multimedia/2014/07/140724_nigeria_commonwealth_games.shtml?ocid=socialflow_twitter\n",
        "\tNO DCC"
       ]
      },
      {
       "output_type": "stream",
       "stream": "stdout",
       "text": [
        " http://www.bbc.co.uk/hausa/multimedia/2014/07/140723_commonwealthgames.shtml?ocid=socialflow_twitter\n",
        "2725"
       ]
      },
      {
       "output_type": "stream",
       "stream": "stdout",
       "text": [
        " http://t.co/gqUt2GmDar\n",
        "\tNO DCC"
       ]
      },
      {
       "output_type": "stream",
       "stream": "stdout",
       "text": [
        " https://audioboom.com/boos/2343599-taron-ministocin-tafkin-chadi\n",
        "\tNO DCC"
       ]
      },
      {
       "output_type": "stream",
       "stream": "stdout",
       "text": [
        " http://www.bbc.co.uk/hausa/multimedia/2014/07/140722_nigeria_prison_colonial.shtml?ocid=socialflow_twitter\n",
        "2750"
       ]
      },
      {
       "output_type": "stream",
       "stream": "stdout",
       "text": [
        " http://t.co/Pz3T3DnFav\n",
        "\tNO DCC"
       ]
      },
      {
       "output_type": "stream",
       "stream": "stdout",
       "text": [
        " http://www.bbc.co.uk/hausa/multimedia/2014/07/140721_aids_prevelance.shtml?ocid=socialflow_twitter\n",
        "\tNO DCC"
       ]
      },
      {
       "output_type": "stream",
       "stream": "stdout",
       "text": [
        " https://audioboom.com/boos/2341252-boko-haram\n",
        "2775"
       ]
      },
      {
       "output_type": "stream",
       "stream": "stdout",
       "text": [
        " http://t.co/qCDuCDOElj\n",
        "\tNO DCC"
       ]
      },
      {
       "output_type": "stream",
       "stream": "stdout",
       "text": [
        " http://www.bbc.co.uk/hausa/multimedia/2014/07/140718_raayi_hiv_aids.shtml?ocid=socialflow_twitter\n",
        "\tNO DCC"
       ]
      },
      {
       "output_type": "stream",
       "stream": "stdout",
       "text": [
        " http://www.bbc.co.uk/hausa/multimedia/2014/07/140718_click180714.shtml?ocid=socialflow_twitter\n",
        "\tNO DCC"
       ]
      },
      {
       "output_type": "stream",
       "stream": "stdout",
       "text": [
        " http://www.bbc.co.uk/hausa/multimedia/2014/07/140718_malaysia_plane_gallery.shtml?ocid=socialflow_twitter\n",
        "2800 http://t.co/6URztsL1SU\n",
        "\tNO DCC"
       ]
      },
      {
       "output_type": "stream",
       "stream": "stdout",
       "text": [
        " http://www.bbc.co.uk/hausa/multimedia/2014/07/140717_hollande_africa_visit.shtml?ocid=socialflow_twitter\n",
        "2825"
       ]
      },
      {
       "output_type": "stream",
       "stream": "stdout",
       "text": [
        " http://t.co/8qWfj7ZatH\n",
        "\tNO DCC"
       ]
      },
      {
       "output_type": "stream",
       "stream": "stdout",
       "text": [
        " http://www.bbc.co.uk/hausa/multimedia/2014/07/140716_mali_algeria_meeting.shtml?ocid=socialflow_twitter\n",
        "2850"
       ]
      },
      {
       "output_type": "stream",
       "stream": "stdout",
       "text": [
        " http://t.co/MpyNJyM70A\n",
        "\tNO DCC"
       ]
      },
      {
       "output_type": "stream",
       "stream": "stdout",
       "text": [
        " http://www.bbc.co.uk/hausa/multimedia/2014/07/140715_space_tourism.shtml?ocid=socialflow_twitter\n",
        "\tNO DCC"
       ]
      },
      {
       "output_type": "stream",
       "stream": "stdout",
       "text": [
        " http://www.bbc.co.uk/hausa/multimedia/2014/07/140715_libya_airport.shtml?ocid=socialflow_twitter\n",
        "2875"
       ]
      },
      {
       "output_type": "stream",
       "stream": "stdout",
       "text": [
        " http://t.co/zjGm7MN4MA\n",
        "\tNO DCC"
       ]
      },
      {
       "output_type": "stream",
       "stream": "stdout",
       "text": [
        " http://www.bbc.co.uk/hausa/multimedia/2014/07/140714_malala_nigeria.shtml?ocid=socialflow_twitter\n",
        "\tNO DCC"
       ]
      },
      {
       "output_type": "stream",
       "stream": "stdout",
       "text": [
        " http://www.bbc.co.uk/hausa/multimedia/2014/07/140714_bringbackourgirls.shtml?ocid=socialflow_twitter\n",
        "\tNO DCC"
       ]
      },
      {
       "output_type": "stream",
       "stream": "stdout",
       "text": [
        " http://www.bbc.co.uk/hausa/multimedia/2014/07/140714_chibok_girls_gallery.shtml?ocid=socialflow_twitter\n",
        "2900"
       ]
      },
      {
       "output_type": "stream",
       "stream": "stdout",
       "text": [
        " http://t.co/UULmciBzi7\n",
        "2925"
       ]
      },
      {
       "output_type": "stream",
       "stream": "stdout",
       "text": [
        " http://t.co/2irZfpJ2Yv\n",
        "\tNO DCC"
       ]
      },
      {
       "output_type": "stream",
       "stream": "stdout",
       "text": [
        " http://www.bbc.co.uk/hausa/multimedia/2014/07/140624_raayi-riga_100714.shtml?ocid=socialflow_twitter\n",
        "\tNO DCC"
       ]
      },
      {
       "output_type": "stream",
       "stream": "stdout",
       "text": [
        " http://www.bbc.co.uk/hausa/multimedia/2014/07/140711_israel_air_strikes.shtml?ocid=socialflow_twitter\n",
        "\tNO DCC"
       ]
      },
      {
       "output_type": "stream",
       "stream": "stdout",
       "text": [
        " http://www.bbc.co.uk/hausa/multimedia/2014/07/140711_ghana_asylum_brazil.shtml?ocid=socialflow_twitter\n",
        "\tNO DCC"
       ]
      },
      {
       "output_type": "stream",
       "stream": "stdout",
       "text": [
        " http://www.bbc.co.uk/hausa/multimedia/2014/07/140711_click110714.shtml?ocid=socialflow_twitter\n",
        "\tNO DCC"
       ]
      },
      {
       "output_type": "stream",
       "stream": "stdout",
       "text": [
        " http://www.bbc.co.uk/hausa/multimedia/2014/07/140710_sudan_albashir.shtml?ocid=socialflow_twitter\n",
        "2950 http://t.co/n1XKW8ZHxp\n",
        "2975"
       ]
      },
      {
       "output_type": "stream",
       "stream": "stdout",
       "text": [
        " http://t.co/fbO3sZvn9F\n",
        "\tNO DCC"
       ]
      },
      {
       "output_type": "stream",
       "stream": "stdout",
       "text": [
        " http://www.bbc.co.uk/hausa/multimedia/2014/07/140708_worldcup_homecoming_wc2014.shtml?ocid=socialflow_twitter\n",
        "\tNO DCC"
       ]
      },
      {
       "output_type": "stream",
       "stream": "stdout",
       "text": [
        " http://www.bbc.co.uk/hausa/multimedia/2014/07/140709_brazil_gallery_wc2014.shtml?ocid=socialflow_twitter\n",
        "\tNO DCC"
       ]
      },
      {
       "output_type": "stream",
       "stream": "stdout",
       "text": [
        " http://www.bbc.co.uk/hausa/multimedia/2014/07/140707_ticket_scam.shtml?ocid=socialflow_twitter\n",
        "3000"
       ]
      },
      {
       "output_type": "stream",
       "stream": "stdout",
       "text": [
        " http://t.co/pSwzxVtcDJ\n",
        "\tNO DCC"
       ]
      },
      {
       "output_type": "stream",
       "stream": "stdout",
       "text": [
        " http://www.bbc.co.uk/hausa/multimedia/2014/07/140707_abuja_pension_summit.shtml?ocid=socialflow_twitter\n",
        "\tNO DCC"
       ]
      },
      {
       "output_type": "stream",
       "stream": "stdout",
       "text": [
        " http://www.bbc.co.uk/hausa/multimedia/2014/07/140707_women_refugee_worldcup.shtml?ocid=socialflow_twitter\n",
        "\tNO DCC"
       ]
      },
      {
       "output_type": "stream",
       "stream": "stdout",
       "text": [
        " http://www.bbc.co.uk/hausa/multimedia/2014/07/140707_iraq_mosques_destroyed.shtml?ocid=socialflow_twitter\n",
        "3025"
       ]
      },
      {
       "output_type": "stream",
       "stream": "stdout",
       "text": [
        " http://t.co/V6D19d3q7d\n",
        "\tNO DCC"
       ]
      },
      {
       "output_type": "stream",
       "stream": "stdout",
       "text": [
        " http://www.bbc.co.uk/hausa/multimedia/2014/07/140707_pension_conference.shtml?ocid=socialflow_twitter\n"
       ]
      }
     ],
     "prompt_number": 8
    }
   ],
   "metadata": {}
  }
 ]
}